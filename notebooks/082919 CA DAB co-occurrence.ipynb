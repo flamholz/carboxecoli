{
 "cells": [
  {
   "cell_type": "code",
   "execution_count": 27,
   "metadata": {},
   "outputs": [
    {
     "name": "stderr",
     "output_type": "stream",
     "text": [
      "/usr/local/Cellar/python/3.6.5/Frameworks/Python.framework/Versions/3.6/lib/python3.6/importlib/_bootstrap.py:219: RuntimeWarning: numpy.ufunc size changed, may indicate binary incompatibility. Expected 192 from C header, got 216 from PyObject\n",
      "  return f(*args, **kwds)\n",
      "/usr/local/Cellar/python/3.6.5/Frameworks/Python.framework/Versions/3.6/lib/python3.6/importlib/_bootstrap.py:219: RuntimeWarning: numpy.ufunc size changed, may indicate binary incompatibility. Expected 192 from C header, got 216 from PyObject\n",
      "  return f(*args, **kwds)\n"
     ]
    }
   ],
   "source": [
    "%matplotlib inline\n",
    "import numpy as np\n",
    "import pandas as pd \n",
    "\n",
    "from scipy import stats\n",
    "from matplotlib import pyplot as plt"
   ]
  },
  {
   "cell_type": "code",
   "execution_count": 5,
   "metadata": {},
   "outputs": [],
   "source": [
    "genes_df = pd.read_csv('082919_img_CAs_dabs.csv', index_col=0)"
   ]
  },
  {
   "cell_type": "code",
   "execution_count": 17,
   "metadata": {},
   "outputs": [],
   "source": [
    "is_ca = np.array([str(e).startswith('EC:4.2.1.1') for e in genes_df.Enzyme])\n",
    "is_dab1 = np.array([str(e).startswith('pfam10070') for e in genes_df.Pfam])\n",
    "genes_df['is_ca'] = is_ca\n",
    "genes_df['is_dab1'] = is_dab1"
   ]
  },
  {
   "cell_type": "code",
   "execution_count": 22,
   "metadata": {},
   "outputs": [],
   "source": [
    "grouped_by_org = genes_df.groupby('Genome ID')"
   ]
  },
  {
   "cell_type": "code",
   "execution_count": 32,
   "metadata": {},
   "outputs": [
    {
     "data": {
      "text/plain": [
       "(-0.4998032092185303, 0.0)"
      ]
     },
     "execution_count": 32,
     "metadata": {},
     "output_type": "execute_result"
    }
   ],
   "source": [
    "counts = grouped_by_org.sum()\n",
    "\n",
    "stats.pearsonr(counts.is_ca > 0, counts.is_dab1 > 0)"
   ]
  },
  {
   "cell_type": "code",
   "execution_count": 29,
   "metadata": {},
   "outputs": [
    {
     "data": {
      "text/plain": [
       "Genome ID\n",
       "637000001     5\n",
       "637000002     2\n",
       "637000004     1\n",
       "637000005     1\n",
       "637000007     1\n",
       "637000010     1\n",
       "637000012     2\n",
       "637000013     2\n",
       "637000014     2\n",
       "637000015     2\n",
       "637000016     2\n",
       "637000017     2\n",
       "637000018     2\n",
       "637000019     2\n",
       "637000020     2\n",
       "637000023     2\n",
       "637000024     1\n",
       "637000025     1\n",
       "637000026     1\n",
       "637000027     1\n",
       "637000030     2\n",
       "637000031     1\n",
       "637000032     2\n",
       "637000033     2\n",
       "637000034     1\n",
       "637000038     5\n",
       "637000039     1\n",
       "637000040     2\n",
       "637000041     2\n",
       "637000042     2\n",
       "             ..\n",
       "2833001199    6\n",
       "2833005253    1\n",
       "2833007721    1\n",
       "2833011970    1\n",
       "2833015273    1\n",
       "2833019317    3\n",
       "2833022550    1\n",
       "2833026118    1\n",
       "2833028006    1\n",
       "2833047623    1\n",
       "2833052049    1\n",
       "2833053935    2\n",
       "2833059440    1\n",
       "2833062151    2\n",
       "2833065481    2\n",
       "2833575075    2\n",
       "2833584432    1\n",
       "2833589111    1\n",
       "2833593252    1\n",
       "2833596614    1\n",
       "2833601699    1\n",
       "2833607222    2\n",
       "2833611726    1\n",
       "2833616669    2\n",
       "2833620646    6\n",
       "2833627981    5\n",
       "2833634935    2\n",
       "2833640130    2\n",
       "2833644256    2\n",
       "2833647300    4\n",
       "Name: is_dab1, Length: 6966, dtype: int64"
      ]
     },
     "execution_count": 29,
     "metadata": {},
     "output_type": "execute_result"
    }
   ],
   "source": [
    "counts.is_dab1"
   ]
  },
  {
   "cell_type": "code",
   "execution_count": 36,
   "metadata": {},
   "outputs": [
    {
     "data": {
      "image/png": "[encoded data removed]",
      "text/plain": [
       "<Figure size 720x720 with 1 Axes>"
      ]
     },
     "metadata": {},
     "output_type": "display_data"
    }
   ],
   "source": [
    "plt.figure(figsize=(10,10))\n",
    "plt.hist(counts.is_ca, bins=20)\n",
    "plt.xticks(np.arange(15))\n",
    "plt.show()"
   ]
  },
  {
   "cell_type": "code",
   "execution_count": 38,
   "metadata": {},
   "outputs": [
    {
     "data": {
      "image/png": "[encoded data removed]",
      "text/plain": [
       "<Figure size 720x720 with 1 Axes>"
      ]
     },
     "metadata": {},
     "output_type": "display_data"
    }
   ],
   "source": [
    "plt.figure(figsize=(10,10))\n",
    "plt.hist(counts.is_dab1, bins=20)\n",
    "plt.xticks(np.arange(15))\n",
    "plt.show()"
   ]
  },
  {
   "cell_type": "code",
   "execution_count": 46,
   "metadata": {},
   "outputs": [
    {
     "data": {
      "image/png": "[encoded data removed]",
      "text/plain": [
       "<Figure size 720x720 with 1 Axes>"
      ]
     },
     "metadata": {},
     "output_type": "display_data"
    }
   ],
   "source": [
    "plt.figure(figsize=(10,10))\n",
    "plt.bar(np.arange(200), counts.is_ca[200:400])\n",
    "plt.bar(np.arange(200), -counts.is_dab1[200:400])\n",
    "plt.show()"
   ]
  },
  {
   "cell_type": "code",
   "execution_count": 55,
   "metadata": {},
   "outputs": [],
   "source": [
    "which_genomes = np.logical_and(counts.is_dab1 > 0, counts.is_ca == 0)\n",
    "genomes_wdab1_only = counts[which_genomes].index\n",
    "dab_no_ca_genes = genes_df[genes_df['Genome ID'].isin(genomes_wdab1_only)]"
   ]
  },
  {
   "cell_type": "code",
   "execution_count": 67,
   "metadata": {},
   "outputs": [
    {
     "data": {
      "text/plain": [
       "{'Acidihalobacter ferrooxidans',\n",
       " 'Acidithiobacillus caldus',\n",
       " 'Aeribacillus pallidus',\n",
       " 'Algoriphagus sp.',\n",
       " 'Alicyclobacillus acidocaldarius',\n",
       " 'Anoxybacillus sp.',\n",
       " 'Aquifex aeolicus',\n",
       " 'Chloroflexus aggregans',\n",
       " 'Chloroflexus aurantiacus',\n",
       " 'Chloroflexus islandicus',\n",
       " 'Geobacillus kaustophilus',\n",
       " 'Geobacillus lituanicus',\n",
       " 'Geobacillus sp.',\n",
       " 'Geobacillus stearothermophilus',\n",
       " 'Geobacillus subterraneus',\n",
       " 'Geobacillus thermocatenulatus',\n",
       " 'Geobacillus thermodenitrificans',\n",
       " 'Geobacillus thermoleovorans',\n",
       " 'Halothiobacillus neapolitanus',\n",
       " 'Halothiobacillus sp.',\n",
       " 'Hydrogenobacter thermophilus',\n",
       " 'Hydrogenobaculum sp.',\n",
       " 'Isosphaera pallida',\n",
       " 'Kangiella sediminilitoris',\n",
       " 'Marinithermus hydrothermalis',\n",
       " 'Nitrospira japonica',\n",
       " 'Nitrospira moscoviensis',\n",
       " 'Parageobacillus genomosp.',\n",
       " 'Rhodobaca barguzinensis',\n",
       " 'Rummeliibacillus stabekisii',\n",
       " 'Salinibacter ruber',\n",
       " 'Staphylococcus argenteus',\n",
       " 'Staphylococcus aureus',\n",
       " 'Staphylococcus capitis',\n",
       " 'Staphylococcus cohnii',\n",
       " 'Staphylococcus epidermidis',\n",
       " 'Staphylococcus equorum',\n",
       " 'Staphylococcus haemolyticus',\n",
       " 'Staphylococcus hominis',\n",
       " 'Staphylococcus lugdunensis',\n",
       " 'Staphylococcus nepalensis',\n",
       " 'Staphylococcus pasteuri',\n",
       " 'Staphylococcus saprophyticus',\n",
       " 'Staphylococcus simiae',\n",
       " 'Staphylococcus sp.',\n",
       " 'Staphylococcus succinus',\n",
       " 'Staphylococcus warneri',\n",
       " 'Staphylococcus xylosus',\n",
       " 'Sulfuriferula sp.',\n",
       " 'Thermaerobacter marianensis',\n",
       " 'Thermocrinis albus',\n",
       " 'Thermocrinis ruber',\n",
       " 'Thioalkalivibrio sp.',\n",
       " 'Thiomonas arsenitoxydans',\n",
       " 'Thiomonas intermedia',\n",
       " 'Vibrio cholerae'}"
      ]
     },
     "execution_count": 67,
     "metadata": {},
     "output_type": "execute_result"
    }
   ],
   "source": [
    "set([' '.join(n.split()[:2]) for n in dab_no_ca_genes['Genome Name']])"
   ]
  },
  {
   "cell_type": "code",
   "execution_count": 71,
   "metadata": {},
   "outputs": [
    {
     "data": {
      "text/plain": [
       "array(['pfam00484 - Pro_CA<br/><br/>',\n",
       "       'pfam00916 - Sulfate_transp<br/><br/>pfam00484 - Pro_CA<br/><br/>',\n",
       "       'pfam00194 - Carb_anhydrase<br/><br/>', nan,\n",
       "       'pfam00484 - Pro_CA<br/><br/>pfam00916 - Sulfate_transp<br/><br/>',\n",
       "       'pfam00484 - Pro_CA<br/><br/>pfam06803 - DUF1232<br/><br/>',\n",
       "       'pfam07589 - VPEP<br/><br/>pfam00194 - Carb_anhydrase<br/><br/>',\n",
       "       'pfam10518 - TAT_signal<br/><br/>pfam00484 - Pro_CA<br/><br/>',\n",
       "       'pfam00916 - Sulfate_transp<br/><br/>',\n",
       "       'pfam00583 - Acetyltransf_1<br/><br/>pfam00484 - Pro_CA<br/><br/>',\n",
       "       'pfam06803 - DUF1232<br/><br/>pfam00484 - Pro_CA<br/><br/>',\n",
       "       'pfam00484 - Pro_CA<br/><br/>pfam04945 - YHS<br/><br/>',\n",
       "       'pfam00484 - Pro_CA<br/><br/>pfam01740 - STAS<br/><br/>pfam00916 - Sulfate_transp<br/><br/>',\n",
       "       'pfam00583 - Acetyltransf_1<br/><br/>',\n",
       "       'pfam00484 - Pro_CA<br/><br/>pfam00583 - Acetyltransf_1<br/><br/>',\n",
       "       'pfam00484 - Pro_CA<br/><br/>pfam00916 - Sulfate_transp<br/><br/>pfam01740 - STAS<br/><br/>',\n",
       "       'pfam17210 - SdrD_B<br/><br/>pfam00194 - Carb_anhydrase<br/><br/>',\n",
       "       'pfam01740 - STAS<br/><br/>pfam00916 - Sulfate_transp<br/><br/>pfam00484 - Pro_CA<br/><br/>',\n",
       "       'pfam00916 - Sulfate_transp<br/><br/>pfam01740 - STAS<br/><br/>pfam00484 - Pro_CA<br/><br/>'],\n",
       "      dtype=object)"
      ]
     },
     "execution_count": 71,
     "metadata": {},
     "output_type": "execute_result"
    }
   ],
   "source": [
    "genes_df[genes_df.is_ca].Pfam.unique()"
   ]
  },
  {
   "cell_type": "code",
   "execution_count": 75,
   "metadata": {},
   "outputs": [
    {
     "data": {
      "text/plain": [
       "1.1014520023062395"
      ]
     },
     "execution_count": 75,
     "metadata": {},
     "output_type": "execute_result"
    }
   ],
   "source": [
    "mask = counts.is_ca > 0\n",
    "counts[mask].is_ca.mean()\n",
    "counts[mask].is_ca.std()"
   ]
  },
  {
   "cell_type": "code",
   "execution_count": null,
   "metadata": {},
   "outputs": [],
   "source": [
    "counts.is_ca.mean()\n"
   ]
  }
 ],
 "metadata": {
  "kernelspec": {
   "display_name": "Python 3",
   "language": "python",
   "name": "python3"
  },
  "language_info": {
   "codemirror_mode": {
    "name": "ipython",
    "version": 3
   },
   "file_extension": ".py",
   "mimetype": "text/x-python",
   "name": "python",
   "nbconvert_exporter": "python",
   "pygments_lexer": "ipython3",
   "version": "3.6.5"
  }
 },
 "nbformat": 4,
 "nbformat_minor": 2
}
