{
 "cells": [
  {
   "cell_type": "code",
   "execution_count": 1,
   "metadata": {},
   "outputs": [],
   "source": [
    "%matplotlib inline\n",
    "import pandas as pd\n",
    "import numpy as np\n",
    "import seaborn as sns\n",
    "\n",
    "from scipy import stats\n",
    "from matplotlib import pyplot as plt\n",
    "\n",
    "from pltconfig import *"
   ]
  },
  {
   "cell_type": "code",
   "execution_count": 2,
   "metadata": {},
   "outputs": [],
   "source": [
    "# Load endpoint growth data of mutants from four days of growth\n",
    "# Endpoint data (4 days) from matched 3mL cultures in 10% CO2 and ambient. \n",
    "matched_od_4day_df = pd.read_csv('data/mutant_phenotypes/090619_CCMB1_mutants_endpointODs_tubes.csv')\n",
    "mask = matched_od_4day_df.use == True\n",
    "matched_od_4day_df = matched_od_4day_df[mask].drop('use', axis=1)\n",
    "\n",
    "mo4d = matched_od_4day_df\n",
    "amb_4day_df = mo4d[mo4d.condition == 'ambient']\n",
    "highCO2_4day_df = mo4d[mo4d.condition == '10% CO2']\n",
    "\n",
    "# Calculate mean values for the 3mL scale experiment. \n",
    "mean_4day_10pct = highCO2_4day_df.groupby('short_name').mean()\n",
    "mean_amb_4day_df = amb_4day_df.groupby('short_name').mean()\n",
    "\n",
    "std_4day_10pct = highCO2_4day_df.groupby('short_name').std()\n",
    "std_4day_amb = amb_4day_df.groupby('short_name').std()"
   ]
  },
  {
   "cell_type": "code",
   "execution_count": 3,
   "metadata": {},
   "outputs": [
    {
     "data": {
      "image/png": "[encoded data removed]",
      "text/plain": [
       "<Figure size 396x144 with 1 Axes>"
      ]
     },
     "metadata": {},
     "output_type": "display_data"
    }
   ],
   "source": [
    "# Combined figure of four day and 12 day growth experiments. \n",
    "fig = plt.figure(figsize=(5.5,2))\n",
    "sns.set_style('white')\n",
    "\n",
    "# Set the order for this panel\n",
    "order = ['pos', \n",
    "         'full CCM K194M', \n",
    "         'p1A/AGFP',\n",
    "         'full CCM post',\n",
    "         'csosCA C173S', 'csos2 dNTD', 'dcsos4AB', 'DabA1-', ]\n",
    "ticknames = ['pos. control', \n",
    "             \"cbbL$^{-}$\", \n",
    "             'p1A+vec',\n",
    "             \"pCB'+pCCM'\",\n",
    "             \"CsoSCA$^-$\", \n",
    "             \"CsoS2-$\\Delta$NTD\", \n",
    "             \"$\\Delta$csos4AB\",\n",
    "             \"DabA1$^-$\"] \n",
    "\n",
    "# manually set bar colors. could have done this more elegantly...\n",
    "bars_10pct = [\n",
    "    greys[3], greys[3], # controls - grey\n",
    "    # Rubisco alone/no carboxysome - green\n",
    "    greens[-3], \n",
    "    # Full CCM gene set\n",
    "    purples[-1],\n",
    "    # Mutants with most of the CCM are red/purple\n",
    "    reddish_purple, reddish_purple, reddish_purple, reddish_purple]\n",
    "\n",
    "bars_amb = [\n",
    "    greys[1], greys[1],\n",
    "    greens[-5],\n",
    "    purples[-3],\n",
    "    reddish_purple, reddish_purple, reddish_purple, reddish_purple]\n",
    "\n",
    "\n",
    "xs = np.arange(len(order))\n",
    "width = 0.4\n",
    "offset = width/2\n",
    "bars_10pct = plt.bar(xs-offset, mean_4day_10pct.loc[order].OD.values, color=bars_10pct, width=width, edgecolor='k')\n",
    "plt.bar(xs+offset, mean_amb_4day_df.loc[order].OD.values, color=bars_amb, width=width, edgecolor='k')\n",
    "\n",
    "# Hatches for the mutants\n",
    "for bar in bars_10pct[-4:]:\n",
    "    bar.set_hatch('//')\n",
    "\n",
    "for i, name in enumerate(order):    \n",
    "    highCO2_vals = highCO2_4day_df[highCO2_4day_df.short_name == name].OD.values\n",
    "    amb_values = amb_4day_df[amb_4day_df.short_name == name].OD.values\n",
    "\n",
    "    plt.scatter(np.ones(highCO2_vals.size)*i-offset, highCO2_4day_df[highCO2_4day_df.short_name == name].OD.values,\n",
    "                marker='D', s=25, color=greys[3], edgecolors='k', zorder=10)\n",
    "    plt.scatter(np.ones(amb_values.size)*i+offset, amb_4day_df[amb_4day_df.short_name == name].OD.values,\n",
    "                marker='D', s=25, color=greys[1], edgecolors='k', zorder=10)\n",
    "\n",
    "plt.errorbar(xs-0.2, mean_4day_10pct.loc[order].OD.values, yerr=std_4day_10pct.loc[order].OD.values, color='k', ls='', elinewidth=2)\n",
    "plt.errorbar(xs+0.2, mean_amb_4day_df.loc[order].OD.values, yerr=std_4day_amb.loc[order].OD.values, color='k', ls='', elinewidth=2)\n",
    "plt.axhline(0, lw=1, c='k')\n",
    "\n",
    "plt.xticks(np.arange(len(ticknames)), ticknames, fontsize=7, ha='center', va='center')\n",
    "plt.yticks(np.arange(0, 4.1, 2.0), fontsize=7)\n",
    "plt.xlabel('')\n",
    "plt.ylabel('OD600 at 4 Days', fontsize=9)\n",
    "plt.ylim(-0.2, 4.05)\n",
    "plt.xlim(-0.8, 7.8)\n",
    "sns.despine(bottom=True)\n",
    "\n",
    "plt.tight_layout()\n",
    "plt.savefig('fig4/fig4.png', dpi=300)\n",
    "plt.show()"
   ]
  },
  {
   "cell_type": "code",
   "execution_count": null,
   "metadata": {},
   "outputs": [],
   "source": []
  }
 ],
 "metadata": {
  "kernelspec": {
   "display_name": "Python 3",
   "language": "python",
   "name": "python3"
  },
  "language_info": {
   "codemirror_mode": {
    "name": "ipython",
    "version": 3
   },
   "file_extension": ".py",
   "mimetype": "text/x-python",
   "name": "python",
   "nbconvert_exporter": "python",
   "pygments_lexer": "ipython3",
   "version": "3.6.5"
  }
 },
 "nbformat": 4,
 "nbformat_minor": 4
}
