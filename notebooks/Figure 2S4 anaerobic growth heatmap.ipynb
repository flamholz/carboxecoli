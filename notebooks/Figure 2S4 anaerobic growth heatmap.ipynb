{
 "cells": [
  {
   "cell_type": "code",
   "execution_count": 1,
   "metadata": {},
   "outputs": [],
   "source": [
    "%matplotlib inline\n",
    "import itertools\n",
    "import numpy as np\n",
    "import pandas as pd\n",
    "import seaborn as sns\n",
    "\n",
    "from matplotlib import pyplot as plt\n",
    "from matplotlib.colors import LogNorm\n",
    "from matplotlib import cm\n",
    "from scipy.stats.mstats import gmean\n",
    "\n",
    "from pltconfig import *"
   ]
  },
  {
   "cell_type": "code",
   "execution_count": 2,
   "metadata": {},
   "outputs": [],
   "source": [
    "# Load count data from excel\n",
    "fname = 'data/sup_figs/031819_CCMB1_anaerobic_colony_counts.xlsx'\n",
    "cts_df = pd.read_excel(fname)"
   ]
  },
  {
   "cell_type": "code",
   "execution_count": 3,
   "metadata": {},
   "outputs": [
    {
     "name": "stderr",
     "output_type": "stream",
     "text": [
      "/usr/local/lib/python3.6/site-packages/scipy/stats/stats.py:330: RuntimeWarning: divide by zero encountered in log\n",
      "  log_a = np.log(np.array(a, dtype=dtype))\n"
     ]
    }
   ],
   "source": [
    "# Take the geometric mean of CFUs and make a square matrix to show in a heatmap\n",
    "mean_cts = cts_df.groupby(['cond', 'short_name']).CFU_od_ml.apply(gmean)\n",
    "square_cts = mean_cts.unstack(level=1)\n",
    "square_cts[square_cts == 0] = np.NaN\n",
    "\n",
    "# Reorder in the presentation order\n",
    "desired_col_order = ['CCMB1+pFE1A', 'CCMB1+pFE1A cbbL-', 'WT']\n",
    "desired_row_order = ['ambient', 'ambient_no3', '10pct', '10%_no3', 'anaerobic', 'anaerobic_no3']\n",
    "square_cts = square_cts[desired_col_order]\n",
    "square_cts = square_cts.loc[desired_row_order]"
   ]
  },
  {
   "cell_type": "code",
   "execution_count": 4,
   "metadata": {},
   "outputs": [
    {
     "data": {
      "image/png": "[encoded data removed]",
      "text/plain": [
       "<Figure size 252x144 with 1 Axes>"
      ]
     },
     "metadata": {},
     "output_type": "display_data"
    }
   ],
   "source": [
    "fig = plt.figure(figsize=(3.5,2))\n",
    "norm = LogNorm(vmin=3e8, vmax=1e9)\n",
    "oranges = sns.color_palette('Oranges')\n",
    "\n",
    "# Zeros are black\n",
    "my_cmap = cm.Purples\n",
    "my_cmap.set_bad(color='black')\n",
    "plt.pcolormesh(square_cts.T, edgecolors='w', linewidth=2, cmap=my_cmap)\n",
    "\n",
    "plt.xticks([])\n",
    "plt.yticks([])\n",
    "\n",
    "for x, idx in enumerate(square_cts.index):\n",
    "    for y, colname in enumerate(square_cts.columns):\n",
    "        val = square_cts.at[idx, colname]\n",
    "        s = '0.0'\n",
    "        color = oranges[-2]\n",
    "        if val > 0:\n",
    "            power = str(np.log10(val))[0]\n",
    "            mult = str(val)[0]\n",
    "            s = '$%s \\\\times 10^{%s}$' % (mult, power)\n",
    "        \n",
    "        plt.text(x+0.5, y+0.5, s, color=color, ha='center', va='center', weight='bold', fontsize=8)\n",
    "\n",
    "sns.despine(bottom=True, left=True)\n",
    "plt.tight_layout()\n",
    "plt.savefig('fig2/fig2S4.png', dpi=600)\n",
    "plt.show()"
   ]
  },
  {
   "cell_type": "code",
   "execution_count": 5,
   "metadata": {},
   "outputs": [
    {
     "name": "stdout",
     "output_type": "stream",
     "text": [
      "('ambient', 'CCMB1+pFE1A', 1) : 2\n",
      "('ambient', 'CCMB1+pFE1A', 2) : 2\n",
      "('ambient', 'CCMB1+pFE1A cbbL-', 1) : 2\n",
      "('ambient', 'WT', 1) : 2\n",
      "('ambient_no3', 'CCMB1+pFE1A', 1) : 2\n",
      "('ambient_no3', 'CCMB1+pFE1A', 2) : 2\n",
      "('ambient_no3', 'CCMB1+pFE1A cbbL-', 1) : 2\n",
      "('ambient_no3', 'WT', 1) : 2\n",
      "('10pct', 'CCMB1+pFE1A', 1) : 2\n",
      "('10pct', 'CCMB1+pFE1A', 2) : 2\n",
      "('10pct', 'CCMB1+pFE1A cbbL-', 1) : 2\n",
      "('10pct', 'WT', 1) : 2\n",
      "('10%_no3', 'CCMB1+pFE1A', 1) : 2\n",
      "('10%_no3', 'CCMB1+pFE1A', 2) : 2\n",
      "('10%_no3', 'CCMB1+pFE1A cbbL-', 1) : 2\n",
      "('10%_no3', 'WT', 1) : 2\n",
      "('anaerobic', 'CCMB1+pFE1A', 1) : 7\n",
      "('anaerobic', 'CCMB1+pFE1A', 2) : 7\n",
      "('anaerobic', 'CCMB1+pFE1A cbbL-', 1) : 2\n",
      "('anaerobic', 'WT', 1) : 2\n",
      "('anaerobic_no3', 'CCMB1+pFE1A', 1) : 7\n",
      "('anaerobic_no3', 'CCMB1+pFE1A', 2) : 7\n",
      "('anaerobic_no3', 'CCMB1+pFE1A cbbL-', 1) : 2\n",
      "('anaerobic_no3', 'WT', 1) : 2\n"
     ]
    }
   ],
   "source": [
    "# Count the number of replicates in the conditions/strains displayed\n",
    "tech_reps = cts_df.groupby(['cond', 'short_name', 'colony']).count()\n",
    "\n",
    "tech_reps.loc['10%_no3']\n",
    "for cond, sn in itertools.product(desired_row_order, desired_col_order):\n",
    "    for rep in [1, 2]:\n",
    "        tup = cond, sn, rep\n",
    "        if tup in tech_reps.index:\n",
    "            print(tup, ':', tech_reps.loc[tup].label)"
   ]
  },
  {
   "cell_type": "code",
   "execution_count": null,
   "metadata": {},
   "outputs": [],
   "source": []
  }
 ],
 "metadata": {
  "kernelspec": {
   "display_name": "Python 3",
   "language": "python",
   "name": "python3"
  },
  "language_info": {
   "codemirror_mode": {
    "name": "ipython",
    "version": 3
   },
   "file_extension": ".py",
   "mimetype": "text/x-python",
   "name": "python",
   "nbconvert_exporter": "python",
   "pygments_lexer": "ipython3",
   "version": "3.6.5"
  }
 },
 "nbformat": 4,
 "nbformat_minor": 4
}
