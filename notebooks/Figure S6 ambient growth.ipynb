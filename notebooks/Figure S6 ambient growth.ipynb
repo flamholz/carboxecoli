{
 "cells": [
  {
   "cell_type": "code",
   "execution_count": 1,
   "metadata": {},
   "outputs": [],
   "source": [
    "%matplotlib inline\n",
    "import pandas as pd\n",
    "import numpy as np\n",
    "import seaborn as sns\n",
    "\n",
    "from scipy import stats\n",
    "from statannot import add_stat_annotation\n",
    "from matplotlib import pyplot as plt\n",
    "from pltconfig import *"
   ]
  },
  {
   "cell_type": "code",
   "execution_count": 2,
   "metadata": {},
   "outputs": [],
   "source": [
    "# Continuous data from photobioreactor (no lights) from 08/31/19.\n",
    "# Growth curves are smoother but slower than continuous data from Spark.\n",
    "# Note: first 19 rows are metadata for the experiment.\n",
    "bioreactor_continuous_df = pd.read_csv('data/fig3/083119_CCMB1_bioreactor_continuous.csv', skiprows=19)\n",
    "# Column names have whitespace off the machine\n",
    "bioreactor_continuous_df.columns = [x.strip() for x in bioreactor_continuous_df.columns]"
   ]
  },
  {
   "cell_type": "code",
   "execution_count": 3,
   "metadata": {},
   "outputs": [],
   "source": [
    "bioreactor_mapping = {'recon.1': 'od-sensors-1.od-680 ',  # reconstituted CCM\n",
    "                      'recon.2': 'od-sensors-2.od-680 ',\n",
    "                      'recon.4': 'od-sensors-3.od-680 ',\n",
    "                      'K194M.3': 'od-sensors-4.od-680 ',  # rubisco active site mutant\n",
    "                      'K194M.4': 'od-sensors-5.od-680 ',\n",
    "                      'lsPrk.3': 'od-sensors-6.od-680 ',  # rubisco + prk alone\n",
    "                      'lsPrk.4': 'od-sensors-7.od-680 ',\n",
    "                      'pos.1': 'od-sensors-8.od-680 ',    # positive control\n",
    "                     }\n",
    "bioreactor_names2plot = dict()\n",
    "\n",
    "# Set colors for for each curve\n",
    "# - greens for rubisco+prk\n",
    "# - purples for CCM\n",
    "# - black for the positive control\n",
    "# NOTE: not plotting negative controls because they overlap with \"rubisco alone.\"\n",
    "# Omitting positive control because I want to zoom in the on the part of the timecourse\n",
    "# where the reconstituted CCM enables growth\n",
    "for k, v in bioreactor_mapping.items():\n",
    "    name, n = k.split('.')\n",
    "    if name == 'K194M' or name == 'pos':\n",
    "        # not plotting the controls\n",
    "        continue \n",
    "        \n",
    "    n = int(n)\n",
    "    c = purples[-n]\n",
    "    if name == 'lsPrk':\n",
    "        c = greys[-n]\n",
    "\n",
    "    bioreactor_names2plot[k] = c"
   ]
  },
  {
   "cell_type": "code",
   "execution_count": 4,
   "metadata": {},
   "outputs": [],
   "source": [
    "# Endpoint data from 08/31/19 spark experiment. Produced from continuous data, endpoint is 80h. \n",
    "spark_endpoint_df = pd.read_csv('data/fig3/083119_CCMB1_ambient_OD80hrs_spark_blanked.csv', index_col=0, skipinitialspace=True)\n",
    "\n",
    "# Groupings of samples for plotting spark endpoint data\n",
    "all_names = spark_endpoint_df.replicate.unique()\n",
    "exp = [c for c in all_names if c.startswith('rec')]\n",
    "neg = [c for c in all_names if c.startswith('K194')]\n",
    "neg_exp = [c for c in all_names if c.startswith('ls')]\n",
    "\n",
    "# Colors to use for the spark endpoint data\n",
    "replicates_palette = {}\n",
    "replicates_palette.update([(n, greys[-1*i-1]) for i, n in enumerate(neg)])\n",
    "replicates_palette.update([(n, greys[-1*i-1]) for i, n in enumerate(neg_exp)])\n",
    "replicates_palette.update([(n, purples[-1*i-1]) for i, n in enumerate(exp)])"
   ]
  },
  {
   "cell_type": "code",
   "execution_count": 5,
   "metadata": {},
   "outputs": [
    {
     "name": "stdout",
     "output_type": "stream",
     "text": [
      "p-value annotation legend:\n",
      "ns: 5.00e-02 < p <= 1.00e+00\n",
      "*: 1.00e-02 < p <= 5.00e-02\n",
      "**: 1.00e-03 < p <= 1.00e-02\n",
      "***: 1.00e-04 < p <= 1.00e-03\n",
      "****: p <= 1.00e-04\n",
      "\n",
      "Rub. alone v.s. Full CCM: Mann-Whitney-Wilcoxon test two-sided with Bonferroni correction, P_val=1.243e-11 U_stat=0.000e+00\n",
      "Neg. v.s. Full CCM: Mann-Whitney-Wilcoxon test two-sided with Bonferroni correction, P_val=1.243e-11 U_stat=0.000e+00\n"
     ]
    },
    {
     "data": {
      "image/png": "[encoded data removed]",
      "text/plain": [
       "<Figure size 522x216 with 2 Axes>"
      ]
     },
     "metadata": {},
     "output_type": "display_data"
    }
   ],
   "source": [
    "plt.figure(figsize=(7.25, 3))\n",
    "sns.set_style('white')\n",
    "\n",
    "gs = plt.GridSpec(1, 3, width_ratios=[3, 1, 2])\n",
    "\n",
    "ax0 = plt.subplot(gs[0, 0])\n",
    "\n",
    "for name, color in sorted(bioreactor_names2plot.items()):\n",
    "    # 'key' is the name of the measurement/well we are looking at. \n",
    "    key = bioreactor_mapping[name]\n",
    "    my_tube = bioreactor_continuous_df[bioreactor_continuous_df['key'] == key]\n",
    "    \n",
    "    # smooth the curves for plotting.\n",
    "    times = my_tube.time.values\n",
    "    ods = pd.Series(my_tube.value.values)\n",
    "    median_filtered_ods = ods.rolling(5).median()\n",
    "    smoothed_ods = median_filtered_ods.rolling(10).mean()\n",
    "    z = 10\n",
    "    if key.startswith('pos'):\n",
    "        z = -10\n",
    "    plt.plot(times, smoothed_ods, lw=3, color=color, zorder=z)\n",
    "    \n",
    "plt.xticks(np.arange(0, 216, 24), np.arange(0, 220, 24)//24, fontsize=9)\n",
    "plt.yticks(np.arange(0.0, 1.01, 0.5), fontsize=9)\n",
    "\n",
    "plt.xlim(60, 204)\n",
    "plt.ylim(-0.1, 1.21)\n",
    "\n",
    "plt.xlabel('Time (Days)', fontsize=9)\n",
    "plt.ylabel('Optical Density (680 nm)', fontsize=9)\n",
    "\n",
    "sns.despine(right=True, top=True, ax=ax0)\n",
    "\n",
    "ax1 = plt.subplot(gs[0, 1])\n",
    "\n",
    "# boxplots in dark grey\n",
    "pal = {'Full CCM': greys[-2], 'Rub. alone': greys[-2], 'Neg.': greys[-2]}\n",
    "lr_order = ('Neg.', 'Rub. alone', 'Full CCM')\n",
    "sns.boxplot(data=spark_endpoint_df, x='sample', y='OD', order=lr_order,\n",
    "            whis=np.inf, palette=pal, notch=True)\n",
    "sns.stripplot(data=spark_endpoint_df, x='sample', y='OD', order=lr_order,\n",
    "              palette=replicates_palette, size=4, hue='replicate', jitter=0.25,\n",
    "              marker='D', edgecolor='k', linewidth=0.2, alpha=0.85)\n",
    "\n",
    "test_results = add_stat_annotation(ax1, data=spark_endpoint_df, x='sample', y='OD', order=lr_order,\n",
    "                                   box_pairs=[('Neg.', 'Full CCM'), ('Rub. alone', 'Full CCM')],\n",
    "                                   test='Mann-Whitney', \n",
    "                                   text_format='star', text_offset=-2,\n",
    "                                   line_height=0.02, line_offset=0.08, linewidth=0.75,\n",
    "                                   loc='outside', verbose=2)\n",
    "\n",
    "plt.legend().set_visible(False)\n",
    "\n",
    "plt.ylim(-0.1, 1.41)\n",
    "plt.xticks(np.arange(3), ['neg. control', 'rubisco + prk', 'full CCM'], rotation=45, ha='right', fontsize=9)\n",
    "plt.yticks(np.arange(0.0, 1.01, 0.5), fontsize=9)\n",
    "plt.xlabel('')\n",
    "plt.ylabel('Optical Density at 80 Hours (600 nm)', fontsize=9)\n",
    "sns.despine(ax=ax1)\n",
    "plt.tight_layout()\n",
    "\n",
    "plt.savefig('figS6/figS6.png', dpi=300)\n",
    "plt.show()"
   ]
  },
  {
   "cell_type": "code",
   "execution_count": 6,
   "metadata": {},
   "outputs": [
    {
     "name": "stdout",
     "output_type": "stream",
     "text": [
      "recon.1\n",
      "Predicted exponential growth rate 0.032 /hr\n",
      "Predicted doubling time 21.45 hrs\n",
      "recon.2\n",
      "Predicted exponential growth rate 0.028 /hr\n",
      "Predicted doubling time 25.12 hrs\n",
      "recon.4\n",
      "Predicted exponential growth rate 0.059 /hr\n",
      "Predicted doubling time 11.77 hrs\n"
     ]
    },
    {
     "data": {
      "image/png": "[encoded data removed]",
      "text/plain": [
       "<Figure size 432x288 with 1 Axes>"
      ]
     },
     "metadata": {},
     "output_type": "display_data"
    }
   ],
   "source": [
    "# Calculate and plot a maximal growth rate for the experimental tubes\n",
    "plt.figure()\n",
    "plt.yscale('log')\n",
    "\n",
    "for name, key in bioreactor_mapping.items():\n",
    "    if not name.startswith('recon'):\n",
    "        continue        \n",
    "    print(name)\n",
    "\n",
    "    my_tube = bioreactor_continuous_df[bioreactor_continuous_df['key'] == key]\n",
    "\n",
    "    # Note -- important to blank and blanking makes a big difference here. \n",
    "    times = my_tube.time.values\n",
    "    ods = pd.Series(my_tube.value.values, dtype='float')\n",
    "    blanked_ods = ods - ods[:10].mean()\n",
    "    median_filtered_ods = blanked_ods.rolling(5).median()\n",
    "    smoothed_ods = median_filtered_ods.rolling(10).mean()\n",
    "\n",
    "    mask = np.logical_and(smoothed_ods > 2e-2, smoothed_ods < 0.1)\n",
    "    log_ods = np.log(smoothed_ods[mask])\n",
    "    matching_times = times[mask]\n",
    "\n",
    "    res = stats.linregress(matching_times, log_ods)\n",
    "    pred_log_OD = res.slope*matching_times + res.intercept\n",
    "    pred_OD = np.exp(pred_log_OD)\n",
    "\n",
    "    print('Predicted exponential growth rate %.2g /hr' % res.slope)\n",
    "    dt_hrs = np.log(2)/res.slope\n",
    "    print('Predicted doubling time %.2f hrs' % dt_hrs)\n",
    "\n",
    "    # Add to plot\n",
    "    plt.plot(times, smoothed_ods)\n",
    "    plt.plot(matching_times, pred_OD, ls='--')\n",
    "\n",
    "plt.xlim(50, 176)\n",
    "plt.ylim(0.001, 1.5)\n",
    "plt.xlabel('Time (Hours)')\n",
    "plt.ylabel('Optical Density (600 nm)')\n",
    "\n",
    "plt.show()"
   ]
  },
  {
   "cell_type": "code",
   "execution_count": 7,
   "metadata": {},
   "outputs": [
    {
     "data": {
      "text/html": [
       "<div>\n",
       "<style scoped>\n",
       "    .dataframe tbody tr th:only-of-type {\n",
       "        vertical-align: middle;\n",
       "    }\n",
       "\n",
       "    .dataframe tbody tr th {\n",
       "        vertical-align: top;\n",
       "    }\n",
       "\n",
       "    .dataframe thead th {\n",
       "        text-align: right;\n",
       "    }\n",
       "</style>\n",
       "<table border=\"1\" class=\"dataframe\">\n",
       "  <thead>\n",
       "    <tr style=\"text-align: right;\">\n",
       "      <th></th>\n",
       "      <th></th>\n",
       "      <th>OD</th>\n",
       "      <th>well</th>\n",
       "    </tr>\n",
       "    <tr>\n",
       "      <th>sample</th>\n",
       "      <th>replicate</th>\n",
       "      <th></th>\n",
       "      <th></th>\n",
       "    </tr>\n",
       "  </thead>\n",
       "  <tbody>\n",
       "    <tr>\n",
       "      <th rowspan=\"3\" valign=\"top\">Full CCM</th>\n",
       "      <th>rec.1</th>\n",
       "      <td>12</td>\n",
       "      <td>12</td>\n",
       "    </tr>\n",
       "    <tr>\n",
       "      <th>rec.2</th>\n",
       "      <td>12</td>\n",
       "      <td>12</td>\n",
       "    </tr>\n",
       "    <tr>\n",
       "      <th>rec.4</th>\n",
       "      <td>24</td>\n",
       "      <td>24</td>\n",
       "    </tr>\n",
       "    <tr>\n",
       "      <th rowspan=\"2\" valign=\"top\">Neg.</th>\n",
       "      <th>K194.3</th>\n",
       "      <td>12</td>\n",
       "      <td>12</td>\n",
       "    </tr>\n",
       "    <tr>\n",
       "      <th>K194.4</th>\n",
       "      <td>12</td>\n",
       "      <td>12</td>\n",
       "    </tr>\n",
       "    <tr>\n",
       "      <th rowspan=\"2\" valign=\"top\">Rub. alone</th>\n",
       "      <th>lsPrk.3</th>\n",
       "      <td>12</td>\n",
       "      <td>12</td>\n",
       "    </tr>\n",
       "    <tr>\n",
       "      <th>lsPrk.4</th>\n",
       "      <td>12</td>\n",
       "      <td>12</td>\n",
       "    </tr>\n",
       "  </tbody>\n",
       "</table>\n",
       "</div>"
      ],
      "text/plain": [
       "                      OD  well\n",
       "sample     replicate          \n",
       "Full CCM   rec.1      12    12\n",
       "           rec.2      12    12\n",
       "           rec.4      24    24\n",
       "Neg.       K194.3     12    12\n",
       "           K194.4     12    12\n",
       "Rub. alone lsPrk.3    12    12\n",
       "           lsPrk.4    12    12"
      ]
     },
     "execution_count": 7,
     "metadata": {},
     "output_type": "execute_result"
    }
   ],
   "source": [
    "# Calculate the number of technical replicates in the plate reader endpoint data.\n",
    "spark_endpoint_df.groupby(['sample', 'replicate']).count()"
   ]
  },
  {
   "cell_type": "code",
   "execution_count": 8,
   "metadata": {},
   "outputs": [],
   "source": [
    "# Bootstrapping (sampling w/ replacement) to get a confidence interval for\n",
    "# the effect size from endpoint plate reader data at 80hrs.\n",
    "full_ccm = spark_endpoint_df[spark_endpoint_df.replicate.isin(exp)]\n",
    "rubisco_alone = spark_endpoint_df[spark_endpoint_df.replicate.isin(neg_exp)]\n",
    "full_ccm_reps = full_ccm.groupby('replicate')\n",
    "rubisco_alone_reps = rubisco_alone.groupby('replicate')\n",
    "\n",
    "diff_of_means = []\n",
    "for _ in range(int(1e4)):\n",
    "    rep_means_ccm = []\n",
    "    rep_means_rub_alone = []\n",
    "    \n",
    "    # subsample the technical replicates to 50%\n",
    "    for gid, group in full_ccm_reps:\n",
    "        n = group.index.size\n",
    "        sub_idxs = np.random.choice(group.index, n//2, replace=True)\n",
    "        rep_means_ccm.append(group.loc[sub_idxs].OD.mean())\n",
    "    for gid, group in rubisco_alone_reps:\n",
    "        n = group.index.size\n",
    "        sub_idxs = np.random.choice(group.index, n//2, replace=True)\n",
    "        rep_means_rub_alone.append(group.loc[sub_idxs].OD.mean())\n",
    "    \n",
    "    # Take the difference of the means of the technical replicate means\n",
    "    dofm = np.mean(rep_means_ccm) - np.mean(rep_means_rub_alone)\n",
    "    diff_of_means.append(dofm)"
   ]
  },
  {
   "cell_type": "code",
   "execution_count": 9,
   "metadata": {},
   "outputs": [
    {
     "name": "stdout",
     "output_type": "stream",
     "text": [
      "Mean difference between CCM and rubisco alone 0.6\n",
      "99.9% confidence interval on the difference [0.56521359 0.63657969]\n"
     ]
    },
    {
     "data": {
      "image/png": "[encoded data removed]",
      "text/plain": [
       "<Figure size 432x288 with 1 Axes>"
      ]
     },
     "metadata": {},
     "output_type": "display_data"
    }
   ],
   "source": [
    "mean_diff = np.mean(diff_of_means)\n",
    "print('Mean difference between CCM and rubisco alone %.1f' % mean_diff)\n",
    "pctiles = np.percentile(diff_of_means, [0.05, 99.95])\n",
    "print('99.9% confidence interval on the difference', pctiles)\n",
    "\n",
    "plt.figure()\n",
    "plt.hist(diff_of_means, bins=50)\n",
    "plt.xlabel('Difference in Mean OD600 @ 80hrs')\n",
    "plt.ylabel('Number of Subsamples ')\n",
    "\n",
    "plt.show()"
   ]
  },
  {
   "cell_type": "code",
   "execution_count": 10,
   "metadata": {},
   "outputs": [
    {
     "data": {
      "text/plain": [
       "\u001b[0;31mSignature:\u001b[0m \u001b[0madd_stat_annotation\u001b[0m\u001b[0;34m(\u001b[0m\u001b[0max\u001b[0m\u001b[0;34m,\u001b[0m \u001b[0mplot\u001b[0m\u001b[0;34m=\u001b[0m\u001b[0;34m'boxplot'\u001b[0m\u001b[0;34m,\u001b[0m \u001b[0mdata\u001b[0m\u001b[0;34m=\u001b[0m\u001b[0;32mNone\u001b[0m\u001b[0;34m,\u001b[0m \u001b[0mx\u001b[0m\u001b[0;34m=\u001b[0m\u001b[0;32mNone\u001b[0m\u001b[0;34m,\u001b[0m \u001b[0my\u001b[0m\u001b[0;34m=\u001b[0m\u001b[0;32mNone\u001b[0m\u001b[0;34m,\u001b[0m \u001b[0mhue\u001b[0m\u001b[0;34m=\u001b[0m\u001b[0;32mNone\u001b[0m\u001b[0;34m,\u001b[0m \u001b[0munits\u001b[0m\u001b[0;34m=\u001b[0m\u001b[0;32mNone\u001b[0m\u001b[0;34m,\u001b[0m \u001b[0morder\u001b[0m\u001b[0;34m=\u001b[0m\u001b[0;32mNone\u001b[0m\u001b[0;34m,\u001b[0m \u001b[0mhue_order\u001b[0m\u001b[0;34m=\u001b[0m\u001b[0;32mNone\u001b[0m\u001b[0;34m,\u001b[0m \u001b[0mbox_pairs\u001b[0m\u001b[0;34m=\u001b[0m\u001b[0;32mNone\u001b[0m\u001b[0;34m,\u001b[0m \u001b[0mwidth\u001b[0m\u001b[0;34m=\u001b[0m\u001b[0;36m0.8\u001b[0m\u001b[0;34m,\u001b[0m \u001b[0mperform_stat_test\u001b[0m\u001b[0;34m=\u001b[0m\u001b[0;32mTrue\u001b[0m\u001b[0;34m,\u001b[0m \u001b[0mpvalues\u001b[0m\u001b[0;34m=\u001b[0m\u001b[0;32mNone\u001b[0m\u001b[0;34m,\u001b[0m \u001b[0mtest_short_name\u001b[0m\u001b[0;34m=\u001b[0m\u001b[0;32mNone\u001b[0m\u001b[0;34m,\u001b[0m \u001b[0mtest\u001b[0m\u001b[0;34m=\u001b[0m\u001b[0;32mNone\u001b[0m\u001b[0;34m,\u001b[0m \u001b[0mtext_format\u001b[0m\u001b[0;34m=\u001b[0m\u001b[0;34m'star'\u001b[0m\u001b[0;34m,\u001b[0m \u001b[0mpvalue_format_string\u001b[0m\u001b[0;34m=\u001b[0m\u001b[0;34m<\u001b[0m\u001b[0mobject\u001b[0m \u001b[0mobject\u001b[0m \u001b[0mat\u001b[0m \u001b[0;36m0x11b7a0030\u001b[0m\u001b[0;34m>\u001b[0m\u001b[0;34m,\u001b[0m \u001b[0mtext_annot_custom\u001b[0m\u001b[0;34m=\u001b[0m\u001b[0;32mNone\u001b[0m\u001b[0;34m,\u001b[0m \u001b[0mloc\u001b[0m\u001b[0;34m=\u001b[0m\u001b[0;34m'inside'\u001b[0m\u001b[0;34m,\u001b[0m \u001b[0mshow_test_name\u001b[0m\u001b[0;34m=\u001b[0m\u001b[0;32mTrue\u001b[0m\u001b[0;34m,\u001b[0m \u001b[0mpvalue_thresholds\u001b[0m\u001b[0;34m=\u001b[0m\u001b[0;34m<\u001b[0m\u001b[0mobject\u001b[0m \u001b[0mobject\u001b[0m \u001b[0mat\u001b[0m \u001b[0;36m0x11b7a0030\u001b[0m\u001b[0;34m>\u001b[0m\u001b[0;34m,\u001b[0m \u001b[0mstats_params\u001b[0m\u001b[0;34m=\u001b[0m\u001b[0;34m{\u001b[0m\u001b[0;34m}\u001b[0m\u001b[0;34m,\u001b[0m \u001b[0mcomparisons_correction\u001b[0m\u001b[0;34m=\u001b[0m\u001b[0;34m'bonferroni'\u001b[0m\u001b[0;34m,\u001b[0m \u001b[0muse_fixed_offset\u001b[0m\u001b[0;34m=\u001b[0m\u001b[0;32mFalse\u001b[0m\u001b[0;34m,\u001b[0m \u001b[0mline_offset_to_box\u001b[0m\u001b[0;34m=\u001b[0m\u001b[0;32mNone\u001b[0m\u001b[0;34m,\u001b[0m \u001b[0mline_offset\u001b[0m\u001b[0;34m=\u001b[0m\u001b[0;32mNone\u001b[0m\u001b[0;34m,\u001b[0m \u001b[0mline_height\u001b[0m\u001b[0;34m=\u001b[0m\u001b[0;36m0.02\u001b[0m\u001b[0;34m,\u001b[0m \u001b[0mtext_offset\u001b[0m\u001b[0;34m=\u001b[0m\u001b[0;36m1\u001b[0m\u001b[0;34m,\u001b[0m \u001b[0mcolor\u001b[0m\u001b[0;34m=\u001b[0m\u001b[0;34m'0.2'\u001b[0m\u001b[0;34m,\u001b[0m \u001b[0mlinewidth\u001b[0m\u001b[0;34m=\u001b[0m\u001b[0;36m1.5\u001b[0m\u001b[0;34m,\u001b[0m \u001b[0mfontsize\u001b[0m\u001b[0;34m=\u001b[0m\u001b[0;34m'medium'\u001b[0m\u001b[0;34m,\u001b[0m \u001b[0mverbose\u001b[0m\u001b[0;34m=\u001b[0m\u001b[0;36m1\u001b[0m\u001b[0;34m)\u001b[0m\u001b[0;34m\u001b[0m\u001b[0m\n",
       "\u001b[0;31mDocstring:\u001b[0m\n",
       "Optionally computes statistical test between pairs of data series, and add statistical annotation on top\n",
       "of the boxes/bars. The same exact arguments `data`, `x`, `y`, `hue`, `order`, `width`,\n",
       "`hue_order` (and `units`) as in the seaborn boxplot/barplot function must be passed to this function.\n",
       "\n",
       "This function works in one of the two following modes:\n",
       "a) `perform_stat_test` is True: statistical test as given by argument `test` is performed.\n",
       "b) `perform_stat_test` is False: no statistical test is performed, list of custom p-values `pvalues` are\n",
       "   used for each pair of boxes. The `test_short_name` argument is then used as the name of the\n",
       "   custom statistical test.\n",
       "\n",
       ":param plot: type of the plot, one of 'boxplot' or 'barplot'.\n",
       ":param line_height: in axes fraction coordinates\n",
       ":param text_offset: in points\n",
       ":param box_pairs: can be of either form: For non-grouped boxplot: `[(cat1, cat2), (cat3, cat4)]`. For boxplot grouped by hue: `[((cat1, hue1), (cat2, hue2)), ((cat3, hue3), (cat4, hue4))]`\n",
       ":param pvalue_format_string: defaults to `\"{.3e}\"`\n",
       ":param pvalue_thresholds: list of lists, or tuples. Default is: For \"star\" text_format: `[[1e-4, \"****\"], [1e-3, \"***\"], [1e-2, \"**\"], [0.05, \"*\"], [1, \"ns\"]]`. For \"simple\" text_format : `[[1e-5, \"1e-5\"], [1e-4, \"1e-4\"], [1e-3, \"0.001\"], [1e-2, \"0.01\"]]`\n",
       ":param pvalues: list or array of p-values for each box pair comparison.\n",
       ":param comparisons_correction: Method for multiple comparisons correction. `bonferroni` or None.\n",
       "\u001b[0;31mFile:\u001b[0m      /usr/local/lib/python3.6/site-packages/statannot/statannot.py\n",
       "\u001b[0;31mType:\u001b[0m      function\n"
      ]
     },
     "metadata": {},
     "output_type": "display_data"
    }
   ],
   "source": [
    "add_stat_annotation?"
   ]
  },
  {
   "cell_type": "code",
   "execution_count": null,
   "metadata": {},
   "outputs": [],
   "source": []
  }
 ],
 "metadata": {
  "kernelspec": {
   "display_name": "Python 3",
   "language": "python",
   "name": "python3"
  },
  "language_info": {
   "codemirror_mode": {
    "name": "ipython",
    "version": 3
   },
   "file_extension": ".py",
   "mimetype": "text/x-python",
   "name": "python",
   "nbconvert_exporter": "python",
   "pygments_lexer": "ipython3",
   "version": "3.6.5"
  }
 },
 "nbformat": 4,
 "nbformat_minor": 4
}
