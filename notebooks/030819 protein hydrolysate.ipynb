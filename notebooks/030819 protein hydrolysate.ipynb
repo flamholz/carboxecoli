{
 "cells": [
  {
   "cell_type": "code",
   "execution_count": 1,
   "metadata": {},
   "outputs": [],
   "source": [
    "%matplotlib inline\n",
    "import numpy as np\n",
    "import pandas as pd\n",
    "from matplotlib import pyplot as plt"
   ]
  },
  {
   "cell_type": "code",
   "execution_count": 2,
   "metadata": {},
   "outputs": [],
   "source": [
    "proteome_comp_df = pd.read_excel('coli_proteomes/proteome_composition.xlsx', index_col=0)"
   ]
  },
  {
   "cell_type": "code",
   "execution_count": 3,
   "metadata": {},
   "outputs": [
    {
     "name": "stdout",
     "output_type": "stream",
     "text": [
      "750.00 ug protein\n"
     ]
    }
   ],
   "source": [
    "# calculate from biomass per cell\n",
    "input_OD_units = 5\n",
    "cells_per_od = 1e9\n",
    "mass_per_cell = 300e-15 # g\n",
    "protein_frac = 0.5\n",
    "\n",
    "protein_mass = input_OD_units * cells_per_od * mass_per_cell * protein_frac\n",
    "protein_mass_ug = protein_mass * 1e6\n",
    "print('%.2f ug protein' % protein_mass_ug)"
   ]
  },
  {
   "cell_type": "code",
   "execution_count": 4,
   "metadata": {},
   "outputs": [
    {
     "name": "stdout",
     "output_type": "stream",
     "text": [
      "166.67 ug protein\n"
     ]
    }
   ],
   "source": [
    "# calculate from protein concentration per cell, purposeful underestimate\n",
    "input_OD_units = 5\n",
    "cells_per_od = 1e9\n",
    "proteins_per_cell = 1e6 # underestimate\n",
    "protein_g_per_mol = 2e4 # median for coli proteome\n",
    "avos = 6e23 \n",
    "\n",
    "g_protein = input_OD_units * cells_per_od * proteins_per_cell * protein_g_per_mol / avos\n",
    "ug_protein = g_protein*1e6\n",
    "print('%.2f ug protein' % ug_protein)"
   ]
  },
  {
   "cell_type": "code",
   "execution_count": 5,
   "metadata": {},
   "outputs": [
    {
     "name": "stdout",
     "output_type": "stream",
     "text": [
      "1e-06 mols aminos\n",
      "1000.00 uM total aminos\n"
     ]
    }
   ],
   "source": [
    "# Hydrolyze 100 ug of total protein, calculate total amino conc. \n",
    "input_protein_g = 100e-6  # g\n",
    "amino_g_per_mol = 100     # approx\n",
    "resuspension_vol = 1e-3 # L\n",
    "\n",
    "mol_aminos = input_protein_g / amino_g_per_mol\n",
    "print('%.2g mols aminos' % mol_aminos)\n",
    "\n",
    "molar_aminos = mol_aminos / resuspension_vol\n",
    "umolar_aminos = molar_aminos * 1e6\n",
    "print('%.2f uM total aminos' % umolar_aminos)"
   ]
  },
  {
   "cell_type": "code",
   "execution_count": 7,
   "metadata": {},
   "outputs": [
    {
     "data": {
      "text/plain": [
       "compound\n",
       "alanine                 101.0\n",
       "arginine                 50.0\n",
       "asparagine/aspartate     95.0\n",
       "cysteine                 12.0\n",
       "glutamine/glutamate     121.0\n",
       "glycine                 109.0\n",
       "histidine                16.0\n",
       "isoleucine               48.0\n",
       "leucine                  72.0\n",
       "lysine                   58.0\n",
       "methionine               28.0\n",
       "phenylalanine            39.0\n",
       "proline                  40.0\n",
       "serine                   49.0\n",
       "threonine                53.0\n",
       "tryptophan               15.0\n",
       "tyrosine                 28.0\n",
       "valine                   68.0\n",
       "Name: mole_pct_coli, dtype: float64"
      ]
     },
     "execution_count": 7,
     "metadata": {},
     "output_type": "execute_result"
    }
   ],
   "source": [
    "# calculate expected concentrations of aminos from hydrolyzing 100 ug\n",
    "# coli proteome and resuspending in 1 mL \n",
    "amino_concs_uM = umolar_aminos * proteome_comp_df.mole_pct_coli / 100.0\n",
    "amino_concs_uM.to_csv('expected_concs_100ughydro.csv')\n",
    "\n",
    "amino_concs_uM"
   ]
  },
  {
   "cell_type": "code",
   "execution_count": null,
   "metadata": {},
   "outputs": [],
   "source": []
  }
 ],
 "metadata": {
  "kernelspec": {
   "display_name": "Python 3",
   "language": "python",
   "name": "python3"
  },
  "language_info": {
   "codemirror_mode": {
    "name": "ipython",
    "version": 3
   },
   "file_extension": ".py",
   "mimetype": "text/x-python",
   "name": "python",
   "nbconvert_exporter": "python",
   "pygments_lexer": "ipython3",
   "version": "3.6.5"
  }
 },
 "nbformat": 4,
 "nbformat_minor": 2
}
