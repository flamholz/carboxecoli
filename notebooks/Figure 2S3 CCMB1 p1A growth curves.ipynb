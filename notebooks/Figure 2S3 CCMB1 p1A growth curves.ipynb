{
 "cells": [
  {
   "cell_type": "code",
   "execution_count": 1,
   "metadata": {},
   "outputs": [],
   "source": [
    "%matplotlib inline\n",
    "import pandas as pd\n",
    "import numpy as np\n",
    "import seaborn as sns\n",
    "\n",
    "from matplotlib import pyplot as plt\n",
    "\n",
    "from pltconfig import *"
   ]
  },
  {
   "cell_type": "code",
   "execution_count": 2,
   "metadata": {},
   "outputs": [],
   "source": [
    "# This is the raw data from the Spark plate reader. Will smooth it for plotting. \n",
    "glycerol_df = pd.read_csv('data/sup_figs/092217_spark_m9glycerol_5pct_raw.csv')\n",
    "gluconate_df = pd.read_csv('data/sup_figs/092717_spark_m9gluconate_5pct_raw.csv')"
   ]
  },
  {
   "cell_type": "code",
   "execution_count": 3,
   "metadata": {},
   "outputs": [],
   "source": [
    "# Smoothing is windowed mean twice over a 3 measurement window\n",
    "# Note: data not blanked - not calculating a growth rate, so this is OK. \n",
    "od_cols = glycerol_df.columns[4:]\n",
    "smoothed_gly = glycerol_df.copy()\n",
    "smoothed_gly[od_cols] = smoothed_gly[od_cols].rolling(3, min_periods=1).apply(np.nanmean)\n",
    "smoothed_gly[od_cols] = smoothed_gly[od_cols].rolling(3, min_periods=1).apply(np.nanmean)\n",
    "\n",
    "# Note: need the nanmean because there were some \"OVER\" measurements in the first couple cycles of the gluconate data.\n",
    "smoothed_glucon = gluconate_df.copy()\n",
    "smoothed_glucon[od_cols] = smoothed_glucon[od_cols].rolling(3, min_periods=1).apply(np.nanmean)\n",
    "smoothed_glucon[od_cols] = smoothed_glucon[od_cols].rolling(3, min_periods=1).apply(np.nanmean)"
   ]
  },
  {
   "cell_type": "code",
   "execution_count": 4,
   "metadata": {},
   "outputs": [],
   "source": [
    "positive_contols = [c for c in od_cols if c.startswith('bwGFP + aTc')]\n",
    "negative_controls = [c for c in od_cols if c.startswith('CCMB1 K194M + aTc')]\n",
    "exp_all = [c for c in od_cols if c.startswith('CCMB1 lsPrk')]\n",
    "exp_induced = [c for c in exp_all if c.startswith('CCMB1 lsPrk + aTc')]\n",
    "exp_uninduced = [c for c in exp_all if not c.startswith('CCMB1 lsPrk + aTc')]"
   ]
  },
  {
   "cell_type": "code",
   "execution_count": 5,
   "metadata": {},
   "outputs": [
    {
     "data": {
      "image/png": "[encoded data removed]",
      "text/plain": [
       "<Figure size 198x198 with 1 Axes>"
      ]
     },
     "metadata": {},
     "output_type": "display_data"
    }
   ],
   "source": [
    "figure = plt.figure(figsize=(2.75,2.75))\n",
    "\n",
    "# gluconate data\n",
    "time_h_glucon = smoothed_glucon.time_s / (60*60)\n",
    "for i, name in enumerate(exp_induced):\n",
    "    if i >= 3: break\n",
    "    c = blue_greens[i+3]\n",
    "    plt.plot(time_h_glucon, smoothed_glucon[name], color=c, lw=2)\n",
    "\n",
    "# glycerol data\n",
    "time_h_gly = smoothed_gly.time_s / (60*60)\n",
    "for i, name in enumerate(positive_contols):\n",
    "    if i >= 3: break\n",
    "    c = greys[-i-1]\n",
    "    plt.plot(time_h_gly, smoothed_gly[name], color=c, lw=2)\n",
    "\n",
    "for i, name in enumerate(negative_controls):\n",
    "    if i >= 3: break\n",
    "    c = greys[-i-1]\n",
    "    plt.plot(time_h_gly, smoothed_gly[name], color=c, lw=2, ls='--')\n",
    "\n",
    "for i, name in enumerate(exp_induced):\n",
    "    if i >= 3: break\n",
    "    c = greens[-i-1]\n",
    "    plt.plot(time_h_gly, smoothed_gly[name], color=c, lw=2)\n",
    "\n",
    "    \n",
    "plt.xticks(np.arange(0, 45, 10), fontsize=9)\n",
    "plt.yticks(np.arange(0, 1.55, 0.5), fontsize=9)\n",
    "plt.xlim(5, 45)\n",
    "plt.ylim(-0.1, 1.65)\n",
    "sns.despine()\n",
    "plt.xlabel('Time (Hours)', fontsize=9)\n",
    "plt.ylabel('Optical Density (600 nm)', fontsize=9)\n",
    "\n",
    "plt.tight_layout()\n",
    "plt.savefig('fig2/fig2S3.png', dpi=600)\n",
    "plt.show()"
   ]
  },
  {
   "cell_type": "code",
   "execution_count": 6,
   "metadata": {},
   "outputs": [
    {
     "name": "stdout",
     "output_type": "stream",
     "text": [
      "Positive controls: 6\n",
      "Negative controls: 6\n",
      "Induced experiments: 6\n"
     ]
    }
   ],
   "source": [
    "print('Positive controls:', len(positive_contols))\n",
    "print('Negative controls:', len(positive_contols))\n",
    "print('Induced experiments:', len(exp_induced))"
   ]
  },
  {
   "cell_type": "code",
   "execution_count": null,
   "metadata": {},
   "outputs": [],
   "source": []
  }
 ],
 "metadata": {
  "kernelspec": {
   "display_name": "Python 3",
   "language": "python",
   "name": "python3"
  },
  "language_info": {
   "codemirror_mode": {
    "name": "ipython",
    "version": 3
   },
   "file_extension": ".py",
   "mimetype": "text/x-python",
   "name": "python",
   "nbconvert_exporter": "python",
   "pygments_lexer": "ipython3",
   "version": "3.6.5"
  }
 },
 "nbformat": 4,
 "nbformat_minor": 4
}
