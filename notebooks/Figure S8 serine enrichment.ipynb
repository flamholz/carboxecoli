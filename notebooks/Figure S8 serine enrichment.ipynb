{
 "cells": [
  {
   "cell_type": "code",
   "execution_count": 1,
   "metadata": {},
   "outputs": [
    {
     "name": "stdout",
     "output_type": "stream",
     "text": [
      "/Users/flamholz/Documents/workspace/carboxecoli\n"
     ]
    }
   ],
   "source": [
    "cd .."
   ]
  },
  {
   "cell_type": "code",
   "execution_count": 2,
   "metadata": {},
   "outputs": [],
   "source": [
    "%matplotlib inline\n",
    "\n",
    "import cobra\n",
    "import numpy as np\n",
    "import escher\n",
    "import optslope_rubisco\n",
    "import pandas as pd\n",
    "import pint\n",
    "import seaborn as sns\n",
    "\n",
    "from cobra.core import model\n",
    "from cobra.flux_analysis import phenotype_phase_plane, pfba, flux_variability_analysis\n",
    "from cobra.io import read_sbml_model\n",
    "from cobra.io import sbml\n",
    "from copy import deepcopy\n",
    "from importlib_resources import read_text\n",
    "from matplotlib import pyplot as plt\n",
    "from typing import List, Tuple, Iterable, Any\n",
    "from scipy import stats"
   ]
  },
  {
   "cell_type": "code",
   "execution_count": 3,
   "metadata": {},
   "outputs": [],
   "source": [
    "# Make a color palette for the swarmplot that colors replicates differently.\n",
    "greys = sns.color_palette('Greys', n_colors=8)\n",
    "blues = sns.color_palette('Blues', n_colors=8)\n",
    "greens = sns.color_palette('Greens', n_colors=8)\n",
    "purples = sns.color_palette('Purples', n_colors=8)\n",
    "reddish_purple = sns.set_hls_values(sns.xkcd_rgb['reddish purple'], 0.9, 0.3, 1)"
   ]
  },
  {
   "cell_type": "code",
   "execution_count": 4,
   "metadata": {},
   "outputs": [],
   "source": [
    "# Read in the WT model\n",
    "#WT_MODEL_FNAME = 'optslope_rubisco/iML1515_with_rpp.xml'\n",
    "WT_MODEL_FNAME = 'optslope_rubisco/core_model_with_rpp.xml'\n",
    "wt_model = read_sbml_model(WT_MODEL_FNAME)\n",
    "\n",
    "# Make a CCMB1 model: WT sans rpi, edd and eda activities\n",
    "ccmb1_model = read_sbml_model(WT_MODEL_FNAME)\n",
    "ccmb1_model.reactions.RPI.knock_out()\n",
    "ccmb1_model.reactions.EDD.knock_out()\n",
    "\n",
    "# glycerol is converted to DHAP in E. coli\n",
    "ccmb1_model.exchanges.EX_dhap_e.bounds = (-1000, 1000)\n",
    "\n",
    "# Second model that disallows overflow metabolism entirely.\n",
    "# This gives an upper limit of the fraction of 3PG production due to rubisco.\n",
    "ccmb1_model_no_overflow = read_sbml_model(WT_MODEL_FNAME)\n",
    "ccmb1_model_no_overflow.reactions.RPI.knock_out()\n",
    "ccmb1_model_no_overflow.reactions.EDD.knock_out()\n",
    "ccmb1_model_no_overflow.reactions.EDA.knock_out()\n",
    "\n",
    "# glycerol is converted to DHAP in E. coli\n",
    "ccmb1_model_no_overflow.exchanges.EX_dhap_e.bounds = (-1000, 1000)\n",
    "\n",
    "# Disallow overflow by disabling carbon exchange other than glycerol and CO2.\n",
    "for ex in ccmb1_model_no_overflow.exchanges:\n",
    "    # Leave glycerol and CO2 alone\n",
    "    if ex.id in ('EX_dhap_e', 'EX_co2_e'):\n",
    "        continue\n",
    "        \n",
    "    # Turn off all other carbon exchange\n",
    "    mb = ex.check_mass_balance()\n",
    "    if abs(mb.get('C', 0)) >= 1:\n",
    "        ex.bounds = (0, 0)"
   ]
  },
  {
   "cell_type": "code",
   "execution_count": 5,
   "metadata": {},
   "outputs": [
    {
     "name": "stdout",
     "output_type": "stream",
     "text": [
      "Downloading Map from https://escher.github.io/1-0-0/6/maps/Escherichia%20coli/e_coli_core.Core%20metabolism.json\n"
     ]
    },
    {
     "data": {
      "application/vnd.jupyter.widget-view+json": {
       "model_id": "351eac57fac04eafbb4e243d30cd67ce",
       "version_major": 2,
       "version_minor": 0
      },
      "text/plain": [
       "Builder(reaction_data={'ACALD': -116.57174016330674, 'ACALDt': -1.3250000000011388, 'ACKr': -156.9210304676978…"
      ]
     },
     "metadata": {},
     "output_type": "display_data"
    }
   ],
   "source": [
    "# Diagram central metabolic fluxes for a single pFBA prediction for complemented CCMB1 grown on glycerol.\n",
    "# Need to use the core objective to avoid a number of implausible bypasses and cycles\n",
    "growth_obj = ccmb1_model.reactions.BIOMASS_Ecoli_core_w_GAM\n",
    "s_max = pfba(ccmb1_model, fraction_of_optimum=0.9999, objective=growth_obj)\n",
    "escher.Builder(map_name=\"e_coli_core.Core metabolism\", reaction_data=s_max.fluxes)"
   ]
  },
  {
   "cell_type": "code",
   "execution_count": 6,
   "metadata": {},
   "outputs": [
    {
     "name": "stdout",
     "output_type": "stream",
     "text": [
      "Growth rate 19873.31306018833\n",
      "EX_ac_e: ac_e -->  156.92103046769782\n",
      "EX_acald_e: acald_e -->  1.3250000000011388\n",
      "EX_co2_e: co2_e <=>  664.4976547533506\n",
      "EX_etoh_e: etoh_e -->  115.2467401633056\n",
      "EX_h_e: h_e <=>  1000.0\n",
      "EX_h2o_e: h2o_e <=>  -144.60130646373966\n",
      "EX_nh4_e: nh4_e <=>  -229.16954162840167\n",
      "EX_o2_e: o2_e <=>  -500.0\n",
      "EX_pi_e: pi_e <=>  845.3920934587001\n",
      "EX_dhap_e: dhap_e <=>  -1000.0\n"
     ]
    },
    {
     "data": {
      "text/html": [
       "<div>\n",
       "<style scoped>\n",
       "    .dataframe tbody tr th:only-of-type {\n",
       "        vertical-align: middle;\n",
       "    }\n",
       "\n",
       "    .dataframe tbody tr th {\n",
       "        vertical-align: top;\n",
       "    }\n",
       "\n",
       "    .dataframe thead th {\n",
       "        text-align: right;\n",
       "    }\n",
       "</style>\n",
       "<table border=\"1\" class=\"dataframe\">\n",
       "  <thead>\n",
       "    <tr style=\"text-align: right;\">\n",
       "      <th></th>\n",
       "      <th></th>\n",
       "      <th>PERCENT</th>\n",
       "      <th>FLUX</th>\n",
       "      <th>REACTION_STRING</th>\n",
       "    </tr>\n",
       "    <tr>\n",
       "      <th>RXN_STAT</th>\n",
       "      <th>ID</th>\n",
       "      <th></th>\n",
       "      <th></th>\n",
       "      <th></th>\n",
       "    </tr>\n",
       "  </thead>\n",
       "  <tbody>\n",
       "    <tr>\n",
       "      <th rowspan=\"2\" valign=\"top\">PRODUCING</th>\n",
       "      <th>PGK</th>\n",
       "      <td>80.265612</td>\n",
       "      <td>737.229180</td>\n",
       "      <td>3pg_c + atp_c &lt;=&gt; 13dpg_c + adp_c</td>\n",
       "    </tr>\n",
       "    <tr>\n",
       "      <th>RBC</th>\n",
       "      <td>19.734388</td>\n",
       "      <td>181.257776</td>\n",
       "      <td>co2_c + h2o_c + rubp__D_c --&gt; 2.0 3pg_c + 3.0 h_c</td>\n",
       "    </tr>\n",
       "    <tr>\n",
       "      <th rowspan=\"2\" valign=\"top\">CONSUMING</th>\n",
       "      <th>PGM</th>\n",
       "      <td>93.154646</td>\n",
       "      <td>855.613270</td>\n",
       "      <td>2pg_c &lt;=&gt; 3pg_c</td>\n",
       "    </tr>\n",
       "    <tr>\n",
       "      <th>BIOMASS_Ecoli_core_w_GAM</th>\n",
       "      <td>6.845354</td>\n",
       "      <td>62.873686</td>\n",
       "      <td>1.496 3pg_c + 3.7478 accoa_c + 59.81 atp_c + 0...</td>\n",
       "    </tr>\n",
       "  </tbody>\n",
       "</table>\n",
       "</div>"
      ],
      "text/plain": [
       "<cobra.core.summary.metabolite_summary.MetaboliteSummary at 0x122820f28>"
      ]
     },
     "execution_count": 6,
     "metadata": {},
     "output_type": "execute_result"
    }
   ],
   "source": [
    "# Print exchange fluxes to make sure imports are reasonable.\n",
    "# Notice that there is substantial secretion of acetate, formate, and ethanol in this example.\n",
    "# Glycerol is predominantly metabolized aerobically by E. coli and selection for improved glycerol growth \n",
    "# tends to increase overflow metabolism (e.g. Cheng et al. Nat. Comm. 2014). For this reason we calculate\n",
    "# flux predictions below with and without of overflow metabolism in order to get a plausible range. \n",
    "print('Growth rate', s_max.objective_value)\n",
    "exs = ccmb1_model.exchanges\n",
    "for ex in exs:\n",
    "    if abs(s_max.fluxes[ex.id]) > 0.1:\n",
    "        print(ex, s_max.fluxes[ex.id])\n",
    "        \n",
    "# Summary of fluxes to/from 3PG helps figure out the directionality.\n",
    "ccmb1_model.metabolites.get_by_id('3pg_c').summary(s_max.fluxes)"
   ]
  },
  {
   "cell_type": "code",
   "execution_count": 7,
   "metadata": {},
   "outputs": [],
   "source": [
    "# Growth rate has default constraints because we don't have a measured uptake rate.\n",
    "growth_obj = ccmb1_model.reactions.BIOMASS_Ecoli_core_w_GAM\n",
    "\n",
    "# Run pFBA over a range \"fraction_of_optimum\" values to get a sense of fluxes.\n",
    "# Here we use default media so overflow production is allowed.\n",
    "# NOTE: no reason to allow f_opt < 0.8 as it doesn't affect the relative rubisco flux.\n",
    "f_opt = np.arange(0.8, 0.991, 0.01).tolist() + np.arange(0.991, 1.001, 0.001).tolist()\n",
    "opt_fluxes_overflow_allowed = []\n",
    "for frac_of_opt in f_opt:    \n",
    "    s_max = pfba(ccmb1_model, fraction_of_optimum=frac_of_opt, objective=growth_obj)\n",
    "    opt_fluxes_overflow_allowed.append(s_max.fluxes)"
   ]
  },
  {
   "cell_type": "code",
   "execution_count": 8,
   "metadata": {},
   "outputs": [],
   "source": [
    "# Make a single prediction without overflow metabolism.\n",
    "# NOTE: when overflow is disabled, the rubisco flux fraction is independent of \n",
    "# the \"fraction_of_optimum\" parameter since the system has far fewer free variables,\n",
    "# so we make only one estimate.\n",
    "growth_obj = ccmb1_model_no_overflow.reactions.BIOMASS_Ecoli_core_w_GAM\n",
    "opt_fluxes_no_overflow = []\n",
    "s_max = pfba(ccmb1_model_no_overflow, fraction_of_optimum=0.99, objective=growth_obj)\n",
    "opt_fluxes_no_overflow.append(s_max.fluxes)"
   ]
  },
  {
   "cell_type": "code",
   "execution_count": 9,
   "metadata": {},
   "outputs": [
    {
     "name": "stdout",
     "output_type": "stream",
     "text": [
      "3pg producing reactions\n",
      "\tRubisco producing 3pg at all growth rates: True\n",
      "\tPGK producing 3pg at all growth rates: True\n",
      "\n",
      "3pg consuming reactions\n",
      "\tPGM consuming 3pg at all growth rates: True\n",
      "\n",
      "Mean percent of 3PG production flux through rubisco across all estimates: 20.7%\n",
      "\tRange of rubisco percentages: (19.5%, 23.9%)\n",
      "Mean percent of 3PG consumption flux to serine across all estimates: 7.2%\n"
     ]
    }
   ],
   "source": [
    "# Reactions producing/consuming 3-phosphoglycerate in the ECC2+rubisco model\n",
    "# rubisco (RBC) written in the 3pg producing direction - positive flux = production\n",
    "# phosphoglycerate mutase (PGM) written in the 3pg producing direction - positive flux = production\n",
    "# phosphoglycerate kinase (PGK) written in 3pg consuming direction - positive flux = consumption\n",
    "\n",
    "fba_df = pd.DataFrame(opt_fluxes_overflow_allowed+opt_fluxes_no_overflow)\n",
    "fba_df['fraction_of_optimum'] = f_opt + [0.99]\n",
    "fba_df['overflow_allowed'] = [True]*len(f_opt)+[False]\n",
    "rxns_3pg = 'PGK,RBC,PGM,EX_ac_e,fraction_of_optimum,overflow_allowed'.split(',')\n",
    "\n",
    "rbc_producing = fba_df.RBC >= 0\n",
    "pgm_consuming = fba_df.PGM <= 0\n",
    "pgk_producing = fba_df.PGK <= 0\n",
    "\n",
    "# Check directional consistency\n",
    "print('3pg producing reactions')\n",
    "print('\\tRubisco producing 3pg at all growth rates:', rbc_producing.all())\n",
    "print('\\tPGK producing 3pg at all growth rates:', pgk_producing.all())\n",
    "\n",
    "print()\n",
    "print('3pg consuming reactions')\n",
    "print('\\tPGM consuming 3pg at all growth rates:', pgm_consuming.all())\n",
    "\n",
    "# Total 3pg production as a function of growth rate - produced by rubisco and pgk.\n",
    "# Remember that PGK is written in the 3pg consuming direction, hence negative sign.\n",
    "total_influx = (2*fba_df.RBC - fba_df.PGK)\n",
    "flux_to_biomass = total_influx+fba_df.PGM\n",
    "\n",
    "# total influx and outflux are equal of course. \n",
    "rub_pct = 100 * 2*fba_df.RBC / total_influx\n",
    "pgm_pct = 100 * -fba_df.PGM / total_influx\n",
    "pgk_pct = 100 * -fba_df.PGK / total_influx\n",
    "# remaining flux to biomass goes to serine from 3pg\n",
    "pct_to_ser = 100-pgm_pct\n",
    "\n",
    "fba_df['rub_pct_3pg_prod'] = rub_pct\n",
    "fba_df['pgk_pct_3pg_prod'] = pgm_pct\n",
    "fba_df['pgm_pct_3pg_cons'] = pgm_pct\n",
    "fba_df['ser_pct_3pg_cons'] = pct_to_ser\n",
    "rxns_3pg += 'rub_pct_3pg_prod,pgk_pct_3pg_prod,pgm_pct_3pg_cons,ser_pct_3pg_cons'.split(',')\n",
    "\n",
    "mean_rub_pct = rub_pct.mean()\n",
    "mean_ser_pct = pct_to_ser.mean()\n",
    "rub_pct_range = (fba_df.rub_pct_3pg_prod.min(), fba_df.rub_pct_3pg_prod.max())\n",
    "\n",
    "print()\n",
    "print('Mean percent of 3PG production flux through rubisco across all estimates: %.1f%%' % mean_rub_pct)\n",
    "print('\\tRange of rubisco percentages: (%.1f%%, %.1f%%)' % rub_pct_range)\n",
    "print('Mean percent of 3PG consumption flux to serine across all estimates: %.1f%%' % mean_ser_pct)"
   ]
  },
  {
   "cell_type": "code",
   "execution_count": 10,
   "metadata": {},
   "outputs": [
    {
     "name": "stdout",
     "output_type": "stream",
     "text": [
      "CAfree_bioreactor ser mean 12C labeling: 0.62% +/- 0.2%\n",
      "CCMB1_bioreactor ser mean 12C labeling: 3.49% +/- 2.2%\n",
      "\n",
      "CAfree_bioreactor val mean 12C labeling: 0.60% +/- 0.1%\n",
      "CCMB1_bioreactor val mean 12C labeling: 1.67% +/- 0.7%\n",
      "\n",
      "CAfree_bioreactor his mean 12C labeling: 0.70% +/- 0.1%\n",
      "CCMB1_bioreactor his mean 12C labeling: 0.85% +/- 0.4%\n",
      "\n"
     ]
    },
    {
     "name": "stderr",
     "output_type": "stream",
     "text": [
      "/Users/flamholz/Library/Python/3.6/lib/python/site-packages/ipykernel_launcher.py:5 \u001b[1;31mFutureWarning\u001b[0m: The pandas.np module is deprecated and will be removed from pandas in a future version. Import numpy directly instead\n"
     ]
    },
    {
     "data": {
      "text/html": [
       "<div>\n",
       "<style scoped>\n",
       "    .dataframe tbody tr th:only-of-type {\n",
       "        vertical-align: middle;\n",
       "    }\n",
       "\n",
       "    .dataframe tbody tr th {\n",
       "        vertical-align: top;\n",
       "    }\n",
       "\n",
       "    .dataframe thead th {\n",
       "        text-align: right;\n",
       "    }\n",
       "</style>\n",
       "<table border=\"1\" class=\"dataframe\">\n",
       "  <thead>\n",
       "    <tr style=\"text-align: right;\">\n",
       "      <th></th>\n",
       "      <th>ser</th>\n",
       "      <th>sample_name</th>\n",
       "    </tr>\n",
       "    <tr>\n",
       "      <th>sample</th>\n",
       "      <th></th>\n",
       "      <th></th>\n",
       "    </tr>\n",
       "  </thead>\n",
       "  <tbody>\n",
       "    <tr>\n",
       "      <th>AF 1</th>\n",
       "      <td>0.004527</td>\n",
       "      <td>CAfree_bioreactor</td>\n",
       "    </tr>\n",
       "    <tr>\n",
       "      <th>AF 2</th>\n",
       "      <td>0.008998</td>\n",
       "      <td>CAfree_bioreactor</td>\n",
       "    </tr>\n",
       "    <tr>\n",
       "      <th>AF 3</th>\n",
       "      <td>0.003495</td>\n",
       "      <td>CAfree_bioreactor</td>\n",
       "    </tr>\n",
       "    <tr>\n",
       "      <th>AF 4</th>\n",
       "      <td>0.007835</td>\n",
       "      <td>CAfree_bioreactor</td>\n",
       "    </tr>\n",
       "    <tr>\n",
       "      <th>AF 5</th>\n",
       "      <td>0.024767</td>\n",
       "      <td>CCMB1_bioreactor</td>\n",
       "    </tr>\n",
       "    <tr>\n",
       "      <th>AF 6</th>\n",
       "      <td>0.028638</td>\n",
       "      <td>CCMB1_bioreactor</td>\n",
       "    </tr>\n",
       "    <tr>\n",
       "      <th>AF 7</th>\n",
       "      <td>0.072608</td>\n",
       "      <td>CCMB1_bioreactor</td>\n",
       "    </tr>\n",
       "    <tr>\n",
       "      <th>AF 8</th>\n",
       "      <td>0.013666</td>\n",
       "      <td>CCMB1_bioreactor</td>\n",
       "    </tr>\n",
       "  </tbody>\n",
       "</table>\n",
       "</div>"
      ],
      "text/plain": [
       "             ser        sample_name\n",
       "sample                             \n",
       "AF 1    0.004527  CAfree_bioreactor\n",
       "AF 2    0.008998  CAfree_bioreactor\n",
       "AF 3    0.003495  CAfree_bioreactor\n",
       "AF 4    0.007835  CAfree_bioreactor\n",
       "AF 5    0.024767   CCMB1_bioreactor\n",
       "AF 6    0.028638   CCMB1_bioreactor\n",
       "AF 7    0.072608   CCMB1_bioreactor\n",
       "AF 8    0.013666   CCMB1_bioreactor"
      ]
     },
     "execution_count": 10,
     "metadata": {},
     "output_type": "execute_result"
    }
   ],
   "source": [
    "# Load amino acid LCMS data\n",
    "float_types = ['ser', 'his', 'val', 'thr', 'pro', 'arg', 'glu']\n",
    "short_names = float_types\n",
    "long_names = ['Serine', 'Histidine', 'Valine', 'Threonine', 'Proline', 'Arginine', 'Glutamate']\n",
    "dtypes = dict((aa, pd.np.float64) for aa in float_types)\n",
    "fname = 'notebooks/data/fig4/022720_repeat_f13c_extracted_transpose.csv'\n",
    "\n",
    "# Data is the fraction of C atoms that are 13C\n",
    "frac13c_df = pd.read_csv(fname, index_col=0, na_values='NAN', dtype=dtypes)\n",
    "\n",
    "# Convert data to fraction 12C from fraction 13C\n",
    "frac12c_df = frac13c_df.copy()\n",
    "frac12c_df[float_types] = 1.0 - frac13c_df[float_types]\n",
    "\n",
    "# Serine and valine are products of lower glycolysis, so they are good\n",
    "# proxies for 3PG labeling in the control. His is produced from ribose\n",
    "# with the addition of a single C1 unit (1/6) carbons from THF.\n",
    "# The remaining measured AAs are in some way connected to the TCA cycle and\n",
    "# anaplerotic inorganic carbon incorporation, so they are bad proxies for the input carbon. \n",
    "representative_aas = ['ser', 'val', 'his']\n",
    "\n",
    "for aa in representative_aas:\n",
    "    for sn in ['CAfree_bioreactor', 'CCMB1_bioreactor']:\n",
    "        mask = frac12c_df.sample_name == sn\n",
    "        vals = frac12c_df[mask][aa].values\n",
    "        \n",
    "        # Drop zeros\n",
    "        pct_vals = vals[vals>0]*100\n",
    "        mean_std_12c = np.mean(pct_vals), np.std(pct_vals)\n",
    "        print(sn, aa, 'mean 12C labeling: %.2f%% +/- %.1f%%' % mean_std_12c)\n",
    "    print()\n",
    "    \n",
    "frac12c_df[frac12c_df.sample_name.isin(['CAfree_bioreactor', 'CCMB1_bioreactor'])][['ser', 'sample_name']]"
   ]
  },
  {
   "cell_type": "code",
   "execution_count": 11,
   "metadata": {},
   "outputs": [
    {
     "name": "stdout",
     "output_type": "stream",
     "text": [
      "Average control has 25.0% +/- 3.9% 12C in the cytosol\n",
      "Average experiment has 66.8% +/- 27.8% 12C in the cytosol\n",
      "Control has an average of 0.6% 12C on serine\n",
      "This is 1/40.3 of the cytosolic 12C pool\n",
      "\n",
      "Mean inferred 3pg production flux fraction due to rubisco: 24.2%\n"
     ]
    },
    {
     "data": {
      "text/plain": [
       "sample\n",
       "AF 5    0.276332\n",
       "AF 6    0.149038\n",
       "AF 7    0.441850\n",
       "AF 8    0.101784\n",
       "Name: ser, dtype: float64"
      ]
     },
     "execution_count": 11,
     "metadata": {},
     "output_type": "execute_result"
    }
   ],
   "source": [
    "# LCMS calculations \n",
    "\n",
    "# Calculate the intracellular 13C and 12C fractions by comparing arginine with glutamate and proline.\n",
    "# Gleizer et al. Cell 2019 average inferences from glu and pro comparisons (to arg). However the\n",
    "# proline comparison gives a negative value for sample 7 so it has to be left out here. \n",
    "f13c_cyto_glu = 6 * frac13c_df.arg - 5 * frac13c_df.glu\n",
    "f13c_cyto_pro = 6 * frac13c_df.arg - 5 * frac13c_df.pro\n",
    "\n",
    "# handy summary dataframe for checking the calculation\n",
    "df_data = {'sample_name': frac13c_df.sample_name, 'f13c_cyto_glu': f13c_cyto_glu, 'f13c_cyto_pro': f13c_cyto_pro}\n",
    "cyto_ci_isotopes_df = pd.DataFrame(df_data)\n",
    "cyto_ci_isotopes_df['mean_f13c_cyto'] = cyto_ci_isotopes_df['f13c_cyto_glu']\n",
    "cyto_ci_isotopes_df['f12c_cyto_inferred'] = 1.0 - cyto_ci_isotopes_df.mean_f13c_cyto\n",
    "cyto_ci_isotopes_df['pct12c_cyto_inferred'] = 100*cyto_ci_isotopes_df.f12c_cyto_inferred\n",
    "\n",
    "# Calculate the mean f12c for the controls for reporting in the text\n",
    "mean_isotope_df = cyto_ci_isotopes_df.groupby('sample_name').mean()\n",
    "std_isotope_df = cyto_ci_isotopes_df.groupby('sample_name').std()\n",
    "\n",
    "mean_control_f12c_cyto = mean_isotope_df.loc['CAfree_bioreactor'].f12c_cyto_inferred\n",
    "std_control_f12c_cyto = std_isotope_df.loc['CAfree_bioreactor'].f12c_cyto_inferred\n",
    "\n",
    "mean_exp_f12c_cyto = mean_isotope_df.loc['CCMB1_bioreactor'].f12c_cyto_inferred\n",
    "std_exp_f12c_cyto = std_isotope_df.loc['CCMB1_bioreactor'].f12c_cyto_inferred\n",
    "\n",
    "print('Average control has %.1f%% +/- %.1f%% 12C in the cytosol' % (\n",
    "    100*mean_control_f12c_cyto, 100*std_control_f12c_cyto))\n",
    "print('Average experiment has %.1f%% +/- %.1f%% 12C in the cytosol' % (\n",
    "    100*mean_exp_f12c_cyto, 100*std_exp_f12c_cyto))\n",
    "\n",
    "# Now we ask: what fraction of that 12C makes it onto serine in the control. \n",
    "mean_AA_labeling_df = frac12c_df.groupby('sample_name').mean()\n",
    "mean_control_f12c_ser = mean_AA_labeling_df.loc['CAfree_bioreactor'].ser\n",
    "baseline_12c_cycling_ser = mean_control_f12c_cyto / mean_control_f12c_ser\n",
    "print('Control has an average of %.1f%% 12C on serine' % (100*mean_control_f12c_ser))\n",
    "print('This is 1/%.1f of the cytosolic 12C pool' % (baseline_12c_cycling_ser))\n",
    "\n",
    "# Now we infer the fraction of 3pg production flux that is due to rubisco.\n",
    "# Assumptions:\n",
    "# 1. DHAP has ≈0.6% 12C labeling in both exp and control.\n",
    "#    a. Same becuse it is a direct product of glycerol\n",
    "#    b. 0.6% estimated from the labeling of serine and valine in the control.\n",
    "# 2. RuBP has ≈0.6% 12C labeling in the experiment\n",
    "#       estimated from serine, valine and histidine in the control.\n",
    "# 3. Rubisco carboxylates from a pool with the 12C composition calculated from arg/glu comparison above. \n",
    "#       This fraction is inferred on a per-sample basis. \n",
    "f12c_dhap_assumed = mean_control_f12c_ser   # exp and control, assumed 0.6% see above\n",
    "f12c_rubp_assumed = f12c_dhap_assumed       # only exp makes rubp\n",
    "rel_rub_flux = frac12c_df.ser - f12c_dhap_assumed\n",
    "rel_rub_flux /= (((f12c_dhap_assumed * 5 + cyto_ci_isotopes_df.f12c_cyto_inferred)/6)\n",
    "                 - f12c_dhap_assumed)\n",
    "mean_rub_3pg_production = rel_rub_flux[frac12c_df.sample_name == 'CCMB1_bioreactor'].mean()\n",
    "print()\n",
    "print('Mean inferred 3pg production flux fraction due to rubisco: %.1f%%' % (\n",
    "    mean_rub_3pg_production*100))\n",
    "rel_rub_flux[frac12c_df.sample_name == 'CCMB1_bioreactor']"
   ]
  },
  {
   "cell_type": "code",
   "execution_count": 27,
   "metadata": {},
   "outputs": [],
   "source": [
    "control_f12ser = frac12c_df[frac12c_df.sample_name == 'CAfree_bioreactor'].ser.values\n",
    "exp_f12ser = frac12c_df[frac12c_df.sample_name == 'CCMB1_bioreactor'].ser.values\n",
    "f12co2_exp = cyto_ci_isotopes_df[cyto_ci_isotopes_df.sample_name == 'CCMB1_bioreactor'].f12c_cyto_inferred.values\n",
    "shape = (int(1e5), 4)\n",
    "\n",
    "# Assume f12 for DHAP follows distribution observed for serine in the control\n",
    "f12c_dhap_samples = np.random.normal(loc=0.0062, scale=0.002, size=shape)\n",
    "\n",
    "# RuBP and DHAP were assumed to have the same f12C. \n",
    "# Pessimistically assume that they are independent but have the same mean/stddev\n",
    "# This will create more variation than setting them to the same values\n",
    "f12c_rubp_exp_samples = np.random.normal(loc=0.0062, scale=0.001, size=shape)\n",
    "\n",
    "# Using estimated f12co2 and f12ser distributions from the same experimental sample, as our\n",
    "# model and basic intuition says they must be correlated (rubisco fixes CO2 into serine). \n",
    "# f12ser is a direct LC-MS measurement: assume 0.1% error \n",
    "f12c_ser_exp_samples = np.random.normal(loc=exp_f12ser, scale=0.001, size=shape)\n",
    "\n",
    "# f12co2 is indirectly inferred from glutamate and arginine, assume larger 1% error.\n",
    "f12co2_exp_samples = np.random.normal(loc=f12co2_exp, scale=0.05, size=shape)\n",
    "\n",
    "rel_rub_flux_samples = f12c_ser_exp_samples -  f12c_dhap_samples\n",
    "rel_rub_flux_samples /= (((f12c_dhap_samples*5 + f12co2_exp_samples)/6) - f12c_dhap_samples)\n",
    "pct_rub_flux_samples = rel_rub_flux_samples*100"
   ]
  },
  {
   "cell_type": "code",
   "execution_count": 28,
   "metadata": {},
   "outputs": [
    {
     "name": "stdout",
     "output_type": "stream",
     "text": [
      "Inference of plausible range for rubisco fraction of 3PG production flux\n",
      "Overall median: 19.1%\n",
      "\t 99% CI: 3.9-50.7%\n",
      "\n",
      "Per-sample inference of rubisco flux range\n",
      "Sample 0 median: 27.7%\n",
      "\t 99% CI: 17.6-43.7%\n",
      "Sample 1 median: 14.9%\n",
      "\t 99% CI: 10.8-19.6%\n",
      "Sample 2 median: 44.2%\n",
      "\t 99% CI: 37.6-52.5%\n",
      "Sample 3 median: 10.2%\n",
      "\t 99% CI: 2.4-19.8%\n"
     ]
    },
    {
     "data": {
      "image/png": "[encoded data removed]",
      "text/plain": [
       "<Figure size 432x288 with 1 Axes>"
      ]
     },
     "metadata": {},
     "output_type": "display_data"
    }
   ],
   "source": [
    "# Plot sampled distributions of rubisco flux for all four experimental samples.\n",
    "plt.figure()\n",
    "print('Inference of plausible range for rubisco fraction of 3PG production flux')\n",
    "low, med, high = np.percentile(pct_rub_flux_samples.flatten(), [0.5, 50, 99.5])\n",
    "print('Overall median: %.1f%%' % med)\n",
    "print('\\t 99%% CI: %.1f-%.1f%%' % (low, high))\n",
    "print()\n",
    "print('Per-sample inference of rubisco flux range')\n",
    "pal = sns.color_palette('muted')\n",
    "for c in range(4):\n",
    "    plt.hist(pct_rub_flux_samples[:, c], bins=100, alpha=0.5, color=pal[c])\n",
    "    low, med, high = np.percentile(pct_rub_flux_samples[:, c], [0.5, 50, 99.5])\n",
    "    plt.axvline(med, ls='--', color=pal[c])\n",
    "    print('Sample %d median: %.1f%%' % (c, med))\n",
    "    print('\\t 99%% CI: %.1f-%.1f%%' % (low, high))\n",
    "    \n",
    "plt.xlabel('Percent 3PG Flux due to Rubisco')\n",
    "plt.ylabel('Number of Samples')\n",
    "plt.show()"
   ]
  },
  {
   "cell_type": "code",
   "execution_count": 14,
   "metadata": {},
   "outputs": [
    {
     "data": {
      "image/png": "[encoded data removed]",
      "text/plain": [
       "<Figure size 522x198 with 3 Axes>"
      ]
     },
     "metadata": {},
     "output_type": "display_data"
    }
   ],
   "source": [
    "fig = plt.figure(figsize=(7.25, 2.75))\n",
    "gs = fig.add_gridspec(1, 4, width_ratios=[2.5, 1, 1, 1])\n",
    "\n",
    "# plot %12C on serine\n",
    "ax0 = plt.subplot(gs[0, 1])\n",
    "pct12c_df = frac12c_df.copy()\n",
    "pct12c_df[pct12c_df.columns[:-2]] *= 100\n",
    "sns.boxplot(data=pct12c_df, x='sample_name', y='ser', order=['CAfree_bioreactor', 'CCMB1_bioreactor'], ax=ax0, color=greys[1])\n",
    "sns.swarmplot(data=pct12c_df, x='sample_name', y='ser', order=['CAfree_bioreactor', 'CCMB1_bioreactor'], ax=ax0, color=greys[-2], marker='d')\n",
    "\n",
    "yticks = np.arange(1, 7.1, 2)\n",
    "plt.yticks(yticks, ['%d%%' % y for y in yticks], fontsize=9)\n",
    "plt.xticks([0, 1],[ 'Control', 'Experiment'], fontsize=9, rotation=45, ha='right')\n",
    "ax0.set_ylabel('Percent $^{12}C$ on Serine', fontsize=9)\n",
    "ax0.set_xlabel('')\n",
    "\n",
    "# plot inferred 12Ci fraction.\n",
    "ax1 = plt.subplot(gs[0, 2])\n",
    "sns.boxplot(data=cyto_ci_isotopes_df, x='sample_name', y='pct12c_cyto_inferred', order=['CAfree_bioreactor', 'CCMB1_bioreactor'], ax=ax1, color=greys[1])\n",
    "sns.swarmplot(data=cyto_ci_isotopes_df, x='sample_name', y='pct12c_cyto_inferred', order=['CAfree_bioreactor', 'CCMB1_bioreactor'], ax=ax1, color=greys[-2], marker='d')\n",
    "\n",
    "yticks = np.arange(0, 101, 20)\n",
    "plt.yticks(yticks, ['%d%%' % y for y in yticks], fontsize=9)\n",
    "plt.xticks([0, 1], ['Control', 'Experiment'], fontsize=9, rotation=45, ha='right')\n",
    "ax1.set_xlabel('')\n",
    "ax1.set_ylabel('Intracellular $^{12}CO_2$ Fraction', fontsize=9)\n",
    "\n",
    "\n",
    "# Estimated flux through rubisco as compared to FBA predictions\n",
    "ax2 = plt.subplot(gs[0, 3])\n",
    "\n",
    "inferred_rub_flux = (rel_rub_flux[frac12c_df.sample_name == 'CCMB1_bioreactor']*100).values.tolist()\n",
    "n_exps = len(inferred_rub_flux)\n",
    "\n",
    "# TODO - actually use prediction here.\n",
    "width = 0.8\n",
    "xy = (-width/2, rub_pct_range[0])\n",
    "height = rub_pct_range[1] - rub_pct_range[0]\n",
    "fba_rect = plt.Rectangle(xy, width, height, facecolor=blues[2])\n",
    "ax2.add_patch(fba_rect)\n",
    "\n",
    "\n",
    "sns.boxplot(x=[1]*n_exps, y=inferred_rub_flux, order=[0, 1], ax=ax2, color=greys[1])\n",
    "sns.swarmplot(x=[1]*n_exps, y=inferred_rub_flux, order=[0, 1], ax=ax2, color=greys[-2], marker='d')\n",
    "\n",
    "#plt.scatter([1]*n_exps, inferred_rub_flux, marker='d', s=12, color=greys[-2])\n",
    "#sns.swarmplot(x=[1]*4, y=inferred_rub_flux, ax=ax2, color=greys[-2], marker='d')\n",
    "\n",
    "yticks = np.arange(0, 51, 10)\n",
    "plt.yticks(yticks, ['%d%%' % y for y in yticks], fontsize=9)\n",
    "plt.xticks([0, 1],['FBA Prediction', 'Experiment'], fontsize=9, rotation=45, ha='right')\n",
    "ax2.set_ylabel('Rubisco Flux to 3PG (%)', fontsize=9)\n",
    "ax2.set_xlabel('')\n",
    "ax2.set_ylim(0, 50)\n",
    "ax2.set_xlim(-0.5, 1.5)\n",
    "\n",
    "plt.tight_layout()\n",
    "plt.savefig('notebooks/figS8/figS8.png', dpi=300)\n",
    "plt.show()"
   ]
  },
  {
   "cell_type": "code",
   "execution_count": null,
   "metadata": {},
   "outputs": [],
   "source": []
  }
 ],
 "metadata": {
  "kernelspec": {
   "display_name": "Python 3",
   "language": "python",
   "name": "python3"
  },
  "language_info": {
   "codemirror_mode": {
    "name": "ipython",
    "version": 3
   },
   "file_extension": ".py",
   "mimetype": "text/x-python",
   "name": "python",
   "nbconvert_exporter": "python",
   "pygments_lexer": "ipython3",
   "version": "3.6.5"
  }
 },
 "nbformat": 4,
 "nbformat_minor": 4
}
