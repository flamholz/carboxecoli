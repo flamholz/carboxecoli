{
 "cells": [
  {
   "cell_type": "code",
   "execution_count": 1,
   "metadata": {},
   "outputs": [],
   "source": [
    "%matplotlib inline\n",
    "import numpy as np\n",
    "import pandas as pd\n",
    "import seaborn as sns\n",
    "\n",
    "from matplotlib import pyplot as plt\n",
    "from matplotlib.colors import LogNorm\n",
    "from matplotlib import cm\n",
    "from scipy.stats.mstats import gmean"
   ]
  },
  {
   "cell_type": "code",
   "execution_count": 2,
   "metadata": {},
   "outputs": [],
   "source": [
    "# Load count data from excel\n",
    "fname = 'data/031819_CCMB1_anaerobic_colony_counts.xlsx'\n",
    "cts_df = pd.read_excel(fname)"
   ]
  },
  {
   "cell_type": "code",
   "execution_count": 3,
   "metadata": {},
   "outputs": [
    {
     "name": "stderr",
     "output_type": "stream",
     "text": [
      "/usr/local/lib/python3.6/site-packages/scipy/stats/stats.py:308: RuntimeWarning: divide by zero encountered in log\n",
      "  log_a = np.log(np.array(a, dtype=dtype))\n"
     ]
    }
   ],
   "source": [
    "# Take the geometric mean of CFUs and make a square matrix to show in a heatmap\n",
    "mean_cts = cts_df.groupby(['cond', 'short_name']).CFU_od_ml.apply(gmean)\n",
    "square_cts = mean_cts.unstack(level=1)\n",
    "square_cts[square_cts == 0] = np.NaN\n",
    "\n",
    "# Reorder in the presentation order\n",
    "desired_col_order = ['CCMB1+pFE1A', 'CCMB1+pFE1A cbbL-', 'WT']\n",
    "desired_row_order = ['ambient', 'ambient_no3', '10pct', '10%_no3', 'anaerobic', 'anaerobic_no3']\n",
    "square_cts = square_cts[desired_col_order]\n",
    "square_cts = square_cts.loc[desired_row_order]"
   ]
  },
  {
   "cell_type": "code",
   "execution_count": 5,
   "metadata": {},
   "outputs": [
    {
     "name": "stderr",
     "output_type": "stream",
     "text": [
      "/usr/local/lib/python3.6/site-packages/matplotlib/colors.py:1110: RuntimeWarning: invalid value encountered in less_equal\n",
      "  mask |= resdat <= 0\n"
     ]
    },
    {
     "data": {
      "image/png": "[encoded data removed]",
      "text/plain": [
       "<Figure size 720x504 with 1 Axes>"
      ]
     },
     "metadata": {},
     "output_type": "display_data"
    }
   ],
   "source": [
    "fig = plt.figure(figsize=(10,7))\n",
    "norm = LogNorm(vmin=3e8, vmax=1e9)\n",
    "\n",
    "my_cmap = cm.Purples\n",
    "my_cmap.set_bad(color='black')\n",
    "plt.imshow(square_cts.T, cmap=my_cmap, norm=norm) #linewidths=4, edgecolors='k' )\n",
    "\n",
    "pretty_labels = {\n",
    "    '10%_no3': '10% CO$_2$ +NO$_3^-$',\n",
    "    '10pct': '10% CO$_2$',\n",
    "    'ambient': 'Ambient',\n",
    "    'ambient_no3': 'Ambient +NO$_3^-$',\n",
    "    'anaerobic': 'Anaerobic 10% CO$_2$',\n",
    "    'anaerobic_no3': 'Anaerobic 10% CO$_2$ +NO$_3^-$',\n",
    "    'WT': 'WT:vec',\n",
    "    'CAfree': 'CAfree:vec',\n",
    "    'CCMB1+pFE1A': 'CCMB1:pFE1A',\n",
    "    'CCMB1+pFE1A cbbL-': 'CCMB1:pFE1A cbbL-'\n",
    "}\n",
    "\n",
    "\n",
    "plt.xticks([])\n",
    "plt.yticks([])\n",
    "\n",
    "for x, idx in enumerate(square_cts.index):\n",
    "    for y, colname in enumerate(square_cts.columns):\n",
    "        val = square_cts.at[idx, colname]\n",
    "        s = '0.0'\n",
    "        color = 'orange'\n",
    "        if val > 0:\n",
    "            power = str(np.log10(val))[0]\n",
    "            mult = str(val)[0]\n",
    "            s = '$%s \\\\times 10^{%s}$' % (mult, power)\n",
    "        \n",
    "        plt.text(x, y, s, color=color, ha='center', weight='bold', fontsize=20)\n",
    "\n",
    "plt.tick_params(\n",
    "    axis='x',          # changes apply to the x-axis\n",
    "    which='both',      # both major and minor ticks are affected\n",
    "    bottom=False,      # ticks along the bottom edge are off\n",
    "    top=False) \n",
    "plt.tick_params(\n",
    "    axis='y',          # changes apply to the x-axis\n",
    "    which='both',      # both major and minor ticks are affected\n",
    "    left=False,        # ticks along the bottom edge are off\n",
    "    right=False)\n",
    "plt.tight_layout()\n",
    "plt.savefig('CFU_heatmap.png', dpi=600)\n",
    "plt.show()"
   ]
  },
  {
   "cell_type": "code",
   "execution_count": null,
   "metadata": {},
   "outputs": [],
   "source": []
  }
 ],
 "metadata": {
  "kernelspec": {
   "display_name": "Python 3",
   "language": "python",
   "name": "python3"
  },
  "language_info": {
   "codemirror_mode": {
    "name": "ipython",
    "version": 3
   },
   "file_extension": ".py",
   "mimetype": "text/x-python",
   "name": "python",
   "nbconvert_exporter": "python",
   "pygments_lexer": "ipython3",
   "version": "3.6.5"
  }
 },
 "nbformat": 4,
 "nbformat_minor": 2
}
