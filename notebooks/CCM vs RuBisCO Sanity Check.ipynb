{
 "cells": [
  {
   "cell_type": "code",
   "execution_count": 1,
   "metadata": {},
   "outputs": [],
   "source": [
    "%matplotlib inline\n",
    "\n",
    "import numpy as np\n",
    "import seaborn as sns\n",
    "from matplotlib import pyplot as plt"
   ]
  },
  {
   "cell_type": "code",
   "execution_count": 2,
   "metadata": {},
   "outputs": [],
   "source": [
    "class RuBisCOParams(object):\n",
    "    def __init__(self, kcat_C, K_C, K_O, S):\n",
    "        \"\"\"\n",
    "        Args:\n",
    "            kcat_C: units uM/s.\n",
    "            K_C: units uM.\n",
    "            K_O: units uM.\n",
    "            S: unitless.\n",
    "            \n",
    "        Specificity factor S is defined as\n",
    "            S = kcat_C * K_O / (kcat_O * K_C)\n",
    "        \"\"\"\n",
    "        self.kcat_C = kcat_C\n",
    "        self.K_C = K_C\n",
    "        self.K_O = K_O\n",
    "        self.S = S\n",
    "        self.kcat_O = kcat_C * K_O / (K_C * S)\n",
    "\n",
    "    def vs(self, co2, o2):\n",
    "        \"\"\"Concentrations in micromolar. Returns per-active site rates.\"\"\"\n",
    "        vc = ((self.kcat_C) /\n",
    "              (1.0 + (self.K_C / co2) + (self.K_C * o2 / (self.K_O * co2))))\n",
    "        vo = ((self.kcat_O) /\n",
    "              (1.0 + (self.K_O / o2) + (self.K_O * co2 / (self.K_C * o2))))\n",
    "        return vc, vo\n",
    "    \n",
    "    def __str__(self):\n",
    "        return '<Rubisco kcat_C=%.2g kcat_O=%.2g K_C=%.2g K_O=%.2g S=%.1f>' % (\n",
    "            self.kcat_C, self.kcat_O, self.K_C, self.K_O, self.S)"
   ]
  },
  {
   "cell_type": "code",
   "execution_count": 3,
   "metadata": {},
   "outputs": [
    {
     "name": "stdout",
     "output_type": "stream",
     "text": [
      "<Rubisco kcat_C=14 kcat_O=1.1 K_C=1.7e+02 K_O=5.8e+02 S=43.0>\n"
     ]
    }
   ],
   "source": [
    "co2_concs = np.logspace(1, 3, 200) # uM\n",
    "o2_conc = 270 # uM\n",
    "\n",
    "# Occhilanni 2015.\n",
    "# TODO: 95% CI? \n",
    "Rub7942 = RuBisCOParams(kcat_C=14.4, K_C=172, K_O=585, S=43)\n",
    "print(Rub7942)\n",
    "vc, vo = Rub7942.vs(co2_concs, o2_conc)\n",
    "net_vc = vc - vo/2"
   ]
  },
  {
   "cell_type": "code",
   "execution_count": null,
   "metadata": {},
   "outputs": [],
   "source": [
    "fig = plt.figure(figsize=(10,10))\n",
    "plt.xscale('log')\n",
    "plt.yscale('log')\n",
    "plt.plot(co2_concs, vc, lw=3, alpha=0.7)\n",
    "plt.plot(co2_concs, vo, lw=3, alpha=0.7)\n",
    "plt.plot(co2_concs, net_vc, lw=3, alpha=0.7)\n",
    "\n",
    "plt.axvline(15, ls='--', color='grey')\n",
    "plt.axvspan(100, 500, color='orange', alpha=0.2)\n",
    "\n",
    "plt.ylabel('Per Active Site Rate ($s^{-1}$)', fontsize=26)\n",
    "plt.xticks(fontsize=18)\n",
    "plt.yticks(fontsize=18)\n",
    "plt.savefig('ccm_action.png', dpi=600)\n",
    "\n",
    "plt.show()"
   ]
  },
  {
   "cell_type": "code",
   "execution_count": null,
   "metadata": {},
   "outputs": [],
   "source": [
    "vc, vs = Rub_cyto.vs(13.6e-6, 273e-6)\n",
    "r = 0.1\n",
    "print 32.67 + 49*r / (1.0 - 0.5*r)"
   ]
  },
  {
   "cell_type": "code",
   "execution_count": null,
   "metadata": {},
   "outputs": [],
   "source": []
  }
 ],
 "metadata": {
  "kernelspec": {
   "display_name": "Python 3",
   "language": "python",
   "name": "python3"
  },
  "language_info": {
   "codemirror_mode": {
    "name": "ipython",
    "version": 3
   },
   "file_extension": ".py",
   "mimetype": "text/x-python",
   "name": "python",
   "nbconvert_exporter": "python",
   "pygments_lexer": "ipython3",
   "version": "3.6.5"
  }
 },
 "nbformat": 4,
 "nbformat_minor": 1
}
