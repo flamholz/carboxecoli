{
 "cells": [
  {
   "cell_type": "code",
   "execution_count": 1,
   "metadata": {},
   "outputs": [],
   "source": [
    "%matplotlib inline\n",
    "import numpy as np\n",
    "import pandas as pd\n",
    "import seaborn as sns\n",
    "\n",
    "from matplotlib import pyplot as plt\n",
    "from mpl_toolkits.axes_grid1.inset_locator import inset_axes\n",
    "from scipy import stats\n",
    "from statannot import add_stat_annotation\n",
    "\n",
    "from pltconfig import *"
   ]
  },
  {
   "cell_type": "code",
   "execution_count": 2,
   "metadata": {},
   "outputs": [],
   "source": [
    "# Load bioreactor data \n",
    "# Culture density data from bioreactor pumping ambient air from 08/31/19.\n",
    "# Note: first 19 rows are metadata for the experiment.\n",
    "bioreactor_continuous_df = pd.read_csv('data/fig3/083119_CCMB1_bioreactor_continuous.csv', skiprows=19)\n",
    "# Column names have whitespace off the machine - fix manually.\n",
    "bioreactor_continuous_df.columns = [x.strip() for x in bioreactor_continuous_df.columns]\n",
    "\n",
    "# Mapping of names to specific bioreactor tube labels.\n",
    "bioreactor_mapping = {'recon.1': 'od-sensors-1.od-680 ',\n",
    "                      'recon.2': 'od-sensors-2.od-680 ',\n",
    "                      'recon.4': 'od-sensors-3.od-680 ',\n",
    "                      'K194M.3': 'od-sensors-4.od-680 ',\n",
    "                      'K194M.4': 'od-sensors-5.od-680 ',\n",
    "                      'lsPrk.3': 'od-sensors-6.od-680 ',\n",
    "                      'lsPrk.4': 'od-sensors-7.od-680 ',\n",
    "                      'pos': 'od-sensors-8.od-680 ',\n",
    "                     }\n",
    "\n",
    "# Which ones to plot and colors for them.\n",
    "bioreactor_names2plot = {'recon.4': purples[-2],\n",
    "                         'lsPrk.3': greys[-3]}"
   ]
  },
  {
   "cell_type": "code",
   "execution_count": 3,
   "metadata": {},
   "outputs": [],
   "source": [
    "# Endpoint data from 08/31/19 spark experiment. Produced from continuous data, endpoint is 80h. \n",
    "spark_endpoint_df = pd.read_csv('data/fig3/083119_CCMB1_ambient_OD80hrs_spark_blanked.csv', index_col=0, skipinitialspace=True)\n",
    "\n",
    "# Groupings of samples for plotting spark endpoint data\n",
    "all_names = spark_endpoint_df.replicate.unique()\n",
    "exp = [c for c in all_names if c.startswith('rec')]\n",
    "neg = [c for c in all_names if c.startswith('K194')]\n",
    "neg_exp = [c for c in all_names if c.startswith('ls')]\n",
    "\n",
    "# Colors to use for the spark endpoint data\n",
    "replicates_palette = {}\n",
    "replicates_palette.update([(n, greys[-1*i-1]) for i, n in enumerate(neg)])\n",
    "replicates_palette.update([(n, greys[-1*i-1]) for i, n in enumerate(neg_exp)])\n",
    "replicates_palette.update([(n, purples[-1*i-1]) for i, n in enumerate(exp)])"
   ]
  },
  {
   "cell_type": "code",
   "execution_count": 4,
   "metadata": {},
   "outputs": [
    {
     "name": "stderr",
     "output_type": "stream",
     "text": [
      "/Users/flamholz/Library/Python/3.6/lib/python/site-packages/ipykernel_launcher.py:45: UserWarning: This figure includes Axes that are not compatible with tight_layout, so results might be incorrect.\n"
     ]
    },
    {
     "data": {
      "image/png": "[encoded data removed]",
      "text/plain": [
       "<Figure size 360x162 with 2 Axes>"
      ]
     },
     "metadata": {},
     "output_type": "display_data"
    }
   ],
   "source": [
    "fig = plt.figure(figsize=(5, 2.25))\n",
    "\n",
    "for name, color in sorted(bioreactor_names2plot.items()):\n",
    "    # 'key' is the name of the measurement/well we are looking at. \n",
    "    key = bioreactor_mapping[name]\n",
    "    my_tube = bioreactor_continuous_df[bioreactor_continuous_df['key'] == key]\n",
    "    \n",
    "    times = my_tube.time.values\n",
    "    ods = pd.Series(my_tube.value.values)\n",
    "    median_filtered_ods = ods.rolling(5).median()\n",
    "    smoothed_ods = median_filtered_ods.rolling(10).mean()\n",
    "    plt.plot(times, smoothed_ods, lw=3, color=color)\n",
    "\n",
    "plt.xticks(np.arange(0, 144, 24), np.arange(0, 144, 24)//24, fontsize=8)\n",
    "plt.yticks(np.arange(0.0, 1.01, 0.5), fontsize=8)\n",
    "\n",
    "plt.xlim(50, 142)\n",
    "plt.ylim(-0.15, 1.21)\n",
    "\n",
    "plt.xlabel('Time (Days)', fontsize=9)\n",
    "plt.ylabel('Optical Density (680 nm)', fontsize=9)\n",
    "sns.despine()\n",
    "\n",
    "# Inset for replicated endpoint data from the plate reader\n",
    "ax0 = fig.get_axes()[0]\n",
    "axins = inset_axes(ax0, width=0.75, height=0.9, loc=2,\n",
    "                   bbox_to_anchor=(.15, .5, .6, .5),\n",
    "                   bbox_transform=ax0.transAxes)\n",
    "\n",
    "\n",
    "pal = {'Full CCM': greys[-3], 'Rub. alone': greys[-3]}\n",
    "lr_order = ('Rub. alone', 'Full CCM')\n",
    "sns.swarmplot(data=spark_endpoint_df, x='sample', y='OD', order=lr_order, ax=axins,\n",
    "              palette=replicates_palette, size=3, hue='replicate', dodge=True, marker='D', edgecolor='k', linewidth=0.2)\n",
    "\n",
    "plt.legend().set_visible(False)\n",
    "\n",
    "plt.ylim(-0.1, 1.1)\n",
    "plt.xlim(0, 1)\n",
    "plt.xticks([])\n",
    "plt.yticks(np.arange(0.0, 1.01, 0.5), fontsize=6)\n",
    "plt.ylabel('Final Density (600 nm)', fontsize=7)\n",
    "plt.xlabel('', fontsize=7)\n",
    "sns.despine(ax=axins)\n",
    "plt.tight_layout()\n",
    "\n",
    "plt.savefig('fig3/fig3.png', dpi=600)\n",
    "plt.show()\n"
   ]
  },
  {
   "cell_type": "code",
   "execution_count": null,
   "metadata": {},
   "outputs": [],
   "source": []
  }
 ],
 "metadata": {
  "kernelspec": {
   "display_name": "Python 3",
   "language": "python",
   "name": "python3"
  },
  "language_info": {
   "codemirror_mode": {
    "name": "ipython",
    "version": 3
   },
   "file_extension": ".py",
   "mimetype": "text/x-python",
   "name": "python",
   "nbconvert_exporter": "python",
   "pygments_lexer": "ipython3",
   "version": "3.8.2"
  }
 },
 "nbformat": 4,
 "nbformat_minor": 4
}
