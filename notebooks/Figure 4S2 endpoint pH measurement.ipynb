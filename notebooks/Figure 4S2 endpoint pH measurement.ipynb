{
 "cells": [
  {
   "cell_type": "code",
   "execution_count": 1,
   "metadata": {},
   "outputs": [],
   "source": [
    "%matplotlib inline\n",
    "import pandas as pd\n",
    "import numpy as np\n",
    "import seaborn as sns\n",
    "\n",
    "from scipy import stats\n",
    "from matplotlib import pyplot as plt\n",
    "from pltconfig import *"
   ]
  },
  {
   "cell_type": "code",
   "execution_count": 2,
   "metadata": {},
   "outputs": [
    {
     "data": {
      "text/html": [
       "<div>\n",
       "<style scoped>\n",
       "    .dataframe tbody tr th:only-of-type {\n",
       "        vertical-align: middle;\n",
       "    }\n",
       "\n",
       "    .dataframe tbody tr th {\n",
       "        vertical-align: top;\n",
       "    }\n",
       "\n",
       "    .dataframe thead th {\n",
       "        text-align: right;\n",
       "    }\n",
       "</style>\n",
       "<table border=\"1\" class=\"dataframe\">\n",
       "  <thead>\n",
       "    <tr style=\"text-align: right;\">\n",
       "      <th></th>\n",
       "      <th></th>\n",
       "      <th>OD600</th>\n",
       "      <th>pH</th>\n",
       "    </tr>\n",
       "    <tr>\n",
       "      <th>short_name</th>\n",
       "      <th>condition</th>\n",
       "      <th></th>\n",
       "      <th></th>\n",
       "    </tr>\n",
       "  </thead>\n",
       "  <tbody>\n",
       "    <tr>\n",
       "      <th rowspan=\"2\" valign=\"top\">CAfree:pFE-sfGFP+pFA-HCAII</th>\n",
       "      <th>10% CO2</th>\n",
       "      <td>2.287500</td>\n",
       "      <td>6.28500</td>\n",
       "    </tr>\n",
       "    <tr>\n",
       "      <th>ambient</th>\n",
       "      <td>2.415000</td>\n",
       "      <td>6.25500</td>\n",
       "    </tr>\n",
       "    <tr>\n",
       "      <th rowspan=\"2\" valign=\"top\">CCMB1:p1A+pFA-sfGFP</th>\n",
       "      <th>10% CO2</th>\n",
       "      <td>2.698750</td>\n",
       "      <td>6.33000</td>\n",
       "    </tr>\n",
       "    <tr>\n",
       "      <th>ambient</th>\n",
       "      <td>0.041250</td>\n",
       "      <td>7.01250</td>\n",
       "    </tr>\n",
       "    <tr>\n",
       "      <th rowspan=\"2\" valign=\"top\">CCMB1:pCB'+pCCM'</th>\n",
       "      <th>10% CO2</th>\n",
       "      <td>2.731875</td>\n",
       "      <td>6.45750</td>\n",
       "    </tr>\n",
       "    <tr>\n",
       "      <th>ambient</th>\n",
       "      <td>2.928125</td>\n",
       "      <td>6.60375</td>\n",
       "    </tr>\n",
       "  </tbody>\n",
       "</table>\n",
       "</div>"
      ],
      "text/plain": [
       "                                         OD600       pH\n",
       "short_name                 condition                   \n",
       "CAfree:pFE-sfGFP+pFA-HCAII 10% CO2    2.287500  6.28500\n",
       "                           ambient    2.415000  6.25500\n",
       "CCMB1:p1A+pFA-sfGFP        10% CO2    2.698750  6.33000\n",
       "                           ambient    0.041250  7.01250\n",
       "CCMB1:pCB'+pCCM'           10% CO2    2.731875  6.45750\n",
       "                           ambient    2.928125  6.60375"
      ]
     },
     "execution_count": 2,
     "metadata": {},
     "output_type": "execute_result"
    }
   ],
   "source": [
    "# Read in the data and print summary stats\n",
    "ph_df = pd.read_csv('data/fig4/082420_endpoint_pH_measurement.csv')\n",
    "ph_df.groupby(['short_name', 'condition']).mean()"
   ]
  },
  {
   "cell_type": "code",
   "execution_count": 3,
   "metadata": {},
   "outputs": [
    {
     "data": {
      "image/png": "[encoded data removed]",
      "text/plain": [
       "<Figure size 522x180 with 2 Axes>"
      ]
     },
     "metadata": {},
     "output_type": "display_data"
    }
   ],
   "source": [
    "# Figure 4 - supplement 2. Left panel is endpoint ODs, right is endpoint pH. \n",
    "# Media pH was measured in technical qudescribeuplicate prior to the experiment and was 7.01\n",
    "xorder = ['CAfree:pFE-sfGFP+pFA-HCAII', 'CCMB1:p1A+pFA-sfGFP', \"CCMB1:pCB'+pCCM'\", ]\n",
    "xticks = ['control', 'rubisco +\\nprk', \"full CCM\"]\n",
    "hue_order = ['10% CO2', 'ambient']\n",
    "\n",
    "pal = {'10% CO2': greys[3],\n",
    "       'ambient': greys[1]}\n",
    "strip_pal = {'10% CO2': greys[3],\n",
    "             'ambient': greys[3]}\n",
    "\n",
    "fig, axs = plt.subplots(figsize=(7.25, 2.5), ncols=2)\n",
    "sns.set_style('white')\n",
    "plt.sca(axs[0])\n",
    "sns.barplot(data=ph_df, x='short_name', y='OD600', hue='condition', order=xorder,\n",
    "            hue_order=hue_order, palette=pal, edgecolor='k')\n",
    "sns.stripplot(data=ph_df, x='short_name', y='OD600', hue='condition', order=xorder,\n",
    "              hue_order=hue_order, dodge=0.5, marker='d',\n",
    "              edgecolor='k', linewidth=0.5, palette=strip_pal)\n",
    "plt.text(-0.25, 0.4, \"10% CO$_2$\", fontsize=9, rotation=90, ha=\"left\")\n",
    "plt.text(0.25, 0.4, \"ambient\", fontsize=9, rotation=90, ha=\"right\")\n",
    "plt.text(1.21, 0.4, \"no\\ngrowth\", fontsize=9, ha=\"center\")\n",
    "\n",
    "plt.legend().set_visible(False)\n",
    "plt.xticks(np.arange(3), xticks, fontsize=9)\n",
    "plt.yticks(fontsize=8)\n",
    "plt.xlabel('')\n",
    "plt.ylabel('OD600 at 4 Days', fontsize=9)\n",
    "sns.despine()\n",
    "\n",
    "plt.sca(axs[1])\n",
    "sns.barplot(data=ph_df, x='short_name', y='pH', hue='condition', order=xorder,\n",
    "            hue_order=hue_order, palette=pal, edgecolor='k')\n",
    "sns.stripplot(data=ph_df, x='short_name', y='pH', hue='condition', order=xorder,\n",
    "              hue_order=hue_order, dodge=0.5, marker='d',\n",
    "              edgecolor='k', linewidth=0.5, palette=strip_pal)\n",
    "plt.text(-0.25, 4.9, \"10% CO$_2$\", fontsize=9, rotation=90, ha=\"left\")\n",
    "plt.text(0.25, 4.9, \"ambient\", fontsize=9, rotation=90, ha=\"right\")\n",
    "plt.text(1.2, 7.3, \"no\\ngrowth\", fontsize=9, ha=\"center\")\n",
    "\n",
    "plt.legend().set_visible(False)\n",
    "plt.xticks(np.arange(3), xticks, fontsize=9)\n",
    "plt.xlabel('')\n",
    "plt.ylabel('Media pH at 4 Days', fontsize=9)\n",
    "plt.yticks(np.arange(5,8,0.5), fontsize=8)\n",
    "plt.ylim(4.5, 8)\n",
    "sns.despine()\n",
    "\n",
    "for l, ax in zip('AB', axs):\n",
    "    ax.text(-0.1, 1.15, l, transform=ax.transAxes,\n",
    "          fontsize=10, fontweight='bold', va='top', ha='right')\n",
    "plt.tight_layout()\n",
    "\n",
    "plt.savefig('fig4/fig4S2.png', dpi=300)\n",
    "plt.show()\n"
   ]
  },
  {
   "cell_type": "code",
   "execution_count": null,
   "metadata": {},
   "outputs": [],
   "source": []
  }
 ],
 "metadata": {
  "kernelspec": {
   "display_name": "Python 3",
   "language": "python",
   "name": "python3"
  },
  "language_info": {
   "codemirror_mode": {
    "name": "ipython",
    "version": 3
   },
   "file_extension": ".py",
   "mimetype": "text/x-python",
   "name": "python",
   "nbconvert_exporter": "python",
   "pygments_lexer": "ipython3",
   "version": "3.8.2"
  }
 },
 "nbformat": 4,
 "nbformat_minor": 4
}
